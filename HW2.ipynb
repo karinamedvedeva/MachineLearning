{
  "nbformat": 4,
  "nbformat_minor": 0,
  "metadata": {
    "colab": {
      "provenance": [],
      "collapsed_sections": []
    },
    "kernelspec": {
      "name": "python3",
      "display_name": "Python 3"
    },
    "language_info": {
      "name": "python"
    }
  },
  "cells": [
    {
      "cell_type": "markdown",
      "source": [
        "## ***Постановка задачи***\n",
        "\n",
        "---\n",
        "\n",
        "\n",
        "0. Описать задачу словами\n",
        "1. Прочитать данные\n",
        "2. Визуализировать данные и вычислить основные характеристики (среднее, разброс, корреляционную матрицу и т.д.). Интерпретировать.\n",
        "3. Обработать пропущенные значения (или убедиться, что их нет)\n",
        "4. Обработать категориальные признаки\n",
        "5. Провести нормализацию (или объяснить, почему в вашем случае она не нужна)\n",
        "6. Разбить данные на обучающую и тестовую выборки\n",
        "7. Запустить классификатор ближайших соседей (попробовать разное их количество)\n",
        "8. Вычислить ошибки на обучающей и тестовой выборках. Сделать выводы \n",
        "9. По желанию: запустить другие классификаторы. Сравнить результаты\n",
        "10. По желанию: как-то побороться с несбалансированностью классов (если она есть)\n",
        "11. По желанию: исключить коррелированные переменные (объяснить зачем)\n",
        "12. Сделать общие выводы\""
      ],
      "metadata": {
        "id": "4RjcM6aNrexy"
      }
    },
    {
      "cell_type": "markdown",
      "source": [
        "## **0. Описание задачи словами**\n",
        "\n",
        "---\n",
        "\n",
        "\n",
        "\n",
        "Компания, расположенная в Сингапуре и занимающаяся страхованием путешествий, предоставила данные о страховых агенствах. Задача состоит в предсказании вероятности наступления случая, требующего страховых выплат."
      ],
      "metadata": {
        "id": "AYDk6L8_rjsa"
      }
    },
    {
      "cell_type": "markdown",
      "source": [
        "## **1. Чтение данных**\n",
        "\n",
        "---"
      ],
      "metadata": {
        "id": "o8hjok-tr1xa"
      }
    },
    {
      "cell_type": "code",
      "source": [
        "import numpy as np\n",
        "import matplotlib.pyplot as plt\n",
        "%matplotlib inline \n",
        "import pandas as pd\n",
        "import seaborn as sns\n",
        "import sklearn\n",
        "url = 'https://raw.githubusercontent.com/karinamedvedeva/MachineLearning/main/travel_insurance.csv'\n",
        "data = pd.read_csv(url)\n",
        "data.shape\n",
        "data"
      ],
      "metadata": {
        "colab": {
          "base_uri": "https://localhost:8080/",
          "height": 424
        },
        "id": "ceDzhx5TjCMQ",
        "outputId": "6ab72a49-7ff5-406a-8048-2f130efd8ee1"
      },
      "execution_count": 32,
      "outputs": [
        {
          "output_type": "execute_result",
          "data": {
            "text/plain": [
              "      Agency    Agency Type Distribution Channel  \\\n",
              "0        CBH  Travel Agency              Offline   \n",
              "1        CBH  Travel Agency              Offline   \n",
              "2        CWT  Travel Agency               Online   \n",
              "3        CWT  Travel Agency               Online   \n",
              "4        CWT  Travel Agency               Online   \n",
              "...      ...            ...                  ...   \n",
              "63321    JZI       Airlines               Online   \n",
              "63322    JZI       Airlines               Online   \n",
              "63323    JZI       Airlines               Online   \n",
              "63324    JZI       Airlines               Online   \n",
              "63325    JZI       Airlines               Online   \n",
              "\n",
              "                          Product Name Claim  Duration Destination  Net Sales  \\\n",
              "0                   Comprehensive Plan    No       186    MALAYSIA      -29.0   \n",
              "1                   Comprehensive Plan    No       186    MALAYSIA      -29.0   \n",
              "2      Rental Vehicle Excess Insurance    No        65   AUSTRALIA      -49.5   \n",
              "3      Rental Vehicle Excess Insurance    No        60   AUSTRALIA      -39.6   \n",
              "4      Rental Vehicle Excess Insurance    No        79       ITALY      -19.8   \n",
              "...                                ...   ...       ...         ...        ...   \n",
              "63321                       Basic Plan    No       111       JAPAN       35.0   \n",
              "63322                       Basic Plan    No        58       CHINA       40.0   \n",
              "63323                       Basic Plan    No         2    MALAYSIA       18.0   \n",
              "63324                       Basic Plan    No         3    VIET NAM       18.0   \n",
              "63325                       Basic Plan    No        22   HONG KONG       26.0   \n",
              "\n",
              "       Commision (in value) Gender  Age  \n",
              "0                      9.57      F   81  \n",
              "1                      9.57      F   71  \n",
              "2                     29.70    NaN   32  \n",
              "3                     23.76    NaN   32  \n",
              "4                     11.88    NaN   41  \n",
              "...                     ...    ...  ...  \n",
              "63321                 12.25      M   31  \n",
              "63322                 14.00      F   40  \n",
              "63323                  6.30      M   57  \n",
              "63324                  6.30      M   63  \n",
              "63325                  9.10      F   35  \n",
              "\n",
              "[63326 rows x 11 columns]"
            ],
            "text/html": [
              "\n",
              "  <div id=\"df-9517de2f-533c-4eba-bec9-d2dd83c88c15\">\n",
              "    <div class=\"colab-df-container\">\n",
              "      <div>\n",
              "<style scoped>\n",
              "    .dataframe tbody tr th:only-of-type {\n",
              "        vertical-align: middle;\n",
              "    }\n",
              "\n",
              "    .dataframe tbody tr th {\n",
              "        vertical-align: top;\n",
              "    }\n",
              "\n",
              "    .dataframe thead th {\n",
              "        text-align: right;\n",
              "    }\n",
              "</style>\n",
              "<table border=\"1\" class=\"dataframe\">\n",
              "  <thead>\n",
              "    <tr style=\"text-align: right;\">\n",
              "      <th></th>\n",
              "      <th>Agency</th>\n",
              "      <th>Agency Type</th>\n",
              "      <th>Distribution Channel</th>\n",
              "      <th>Product Name</th>\n",
              "      <th>Claim</th>\n",
              "      <th>Duration</th>\n",
              "      <th>Destination</th>\n",
              "      <th>Net Sales</th>\n",
              "      <th>Commision (in value)</th>\n",
              "      <th>Gender</th>\n",
              "      <th>Age</th>\n",
              "    </tr>\n",
              "  </thead>\n",
              "  <tbody>\n",
              "    <tr>\n",
              "      <th>0</th>\n",
              "      <td>CBH</td>\n",
              "      <td>Travel Agency</td>\n",
              "      <td>Offline</td>\n",
              "      <td>Comprehensive Plan</td>\n",
              "      <td>No</td>\n",
              "      <td>186</td>\n",
              "      <td>MALAYSIA</td>\n",
              "      <td>-29.0</td>\n",
              "      <td>9.57</td>\n",
              "      <td>F</td>\n",
              "      <td>81</td>\n",
              "    </tr>\n",
              "    <tr>\n",
              "      <th>1</th>\n",
              "      <td>CBH</td>\n",
              "      <td>Travel Agency</td>\n",
              "      <td>Offline</td>\n",
              "      <td>Comprehensive Plan</td>\n",
              "      <td>No</td>\n",
              "      <td>186</td>\n",
              "      <td>MALAYSIA</td>\n",
              "      <td>-29.0</td>\n",
              "      <td>9.57</td>\n",
              "      <td>F</td>\n",
              "      <td>71</td>\n",
              "    </tr>\n",
              "    <tr>\n",
              "      <th>2</th>\n",
              "      <td>CWT</td>\n",
              "      <td>Travel Agency</td>\n",
              "      <td>Online</td>\n",
              "      <td>Rental Vehicle Excess Insurance</td>\n",
              "      <td>No</td>\n",
              "      <td>65</td>\n",
              "      <td>AUSTRALIA</td>\n",
              "      <td>-49.5</td>\n",
              "      <td>29.70</td>\n",
              "      <td>NaN</td>\n",
              "      <td>32</td>\n",
              "    </tr>\n",
              "    <tr>\n",
              "      <th>3</th>\n",
              "      <td>CWT</td>\n",
              "      <td>Travel Agency</td>\n",
              "      <td>Online</td>\n",
              "      <td>Rental Vehicle Excess Insurance</td>\n",
              "      <td>No</td>\n",
              "      <td>60</td>\n",
              "      <td>AUSTRALIA</td>\n",
              "      <td>-39.6</td>\n",
              "      <td>23.76</td>\n",
              "      <td>NaN</td>\n",
              "      <td>32</td>\n",
              "    </tr>\n",
              "    <tr>\n",
              "      <th>4</th>\n",
              "      <td>CWT</td>\n",
              "      <td>Travel Agency</td>\n",
              "      <td>Online</td>\n",
              "      <td>Rental Vehicle Excess Insurance</td>\n",
              "      <td>No</td>\n",
              "      <td>79</td>\n",
              "      <td>ITALY</td>\n",
              "      <td>-19.8</td>\n",
              "      <td>11.88</td>\n",
              "      <td>NaN</td>\n",
              "      <td>41</td>\n",
              "    </tr>\n",
              "    <tr>\n",
              "      <th>...</th>\n",
              "      <td>...</td>\n",
              "      <td>...</td>\n",
              "      <td>...</td>\n",
              "      <td>...</td>\n",
              "      <td>...</td>\n",
              "      <td>...</td>\n",
              "      <td>...</td>\n",
              "      <td>...</td>\n",
              "      <td>...</td>\n",
              "      <td>...</td>\n",
              "      <td>...</td>\n",
              "    </tr>\n",
              "    <tr>\n",
              "      <th>63321</th>\n",
              "      <td>JZI</td>\n",
              "      <td>Airlines</td>\n",
              "      <td>Online</td>\n",
              "      <td>Basic Plan</td>\n",
              "      <td>No</td>\n",
              "      <td>111</td>\n",
              "      <td>JAPAN</td>\n",
              "      <td>35.0</td>\n",
              "      <td>12.25</td>\n",
              "      <td>M</td>\n",
              "      <td>31</td>\n",
              "    </tr>\n",
              "    <tr>\n",
              "      <th>63322</th>\n",
              "      <td>JZI</td>\n",
              "      <td>Airlines</td>\n",
              "      <td>Online</td>\n",
              "      <td>Basic Plan</td>\n",
              "      <td>No</td>\n",
              "      <td>58</td>\n",
              "      <td>CHINA</td>\n",
              "      <td>40.0</td>\n",
              "      <td>14.00</td>\n",
              "      <td>F</td>\n",
              "      <td>40</td>\n",
              "    </tr>\n",
              "    <tr>\n",
              "      <th>63323</th>\n",
              "      <td>JZI</td>\n",
              "      <td>Airlines</td>\n",
              "      <td>Online</td>\n",
              "      <td>Basic Plan</td>\n",
              "      <td>No</td>\n",
              "      <td>2</td>\n",
              "      <td>MALAYSIA</td>\n",
              "      <td>18.0</td>\n",
              "      <td>6.30</td>\n",
              "      <td>M</td>\n",
              "      <td>57</td>\n",
              "    </tr>\n",
              "    <tr>\n",
              "      <th>63324</th>\n",
              "      <td>JZI</td>\n",
              "      <td>Airlines</td>\n",
              "      <td>Online</td>\n",
              "      <td>Basic Plan</td>\n",
              "      <td>No</td>\n",
              "      <td>3</td>\n",
              "      <td>VIET NAM</td>\n",
              "      <td>18.0</td>\n",
              "      <td>6.30</td>\n",
              "      <td>M</td>\n",
              "      <td>63</td>\n",
              "    </tr>\n",
              "    <tr>\n",
              "      <th>63325</th>\n",
              "      <td>JZI</td>\n",
              "      <td>Airlines</td>\n",
              "      <td>Online</td>\n",
              "      <td>Basic Plan</td>\n",
              "      <td>No</td>\n",
              "      <td>22</td>\n",
              "      <td>HONG KONG</td>\n",
              "      <td>26.0</td>\n",
              "      <td>9.10</td>\n",
              "      <td>F</td>\n",
              "      <td>35</td>\n",
              "    </tr>\n",
              "  </tbody>\n",
              "</table>\n",
              "<p>63326 rows × 11 columns</p>\n",
              "</div>\n",
              "      <button class=\"colab-df-convert\" onclick=\"convertToInteractive('df-9517de2f-533c-4eba-bec9-d2dd83c88c15')\"\n",
              "              title=\"Convert this dataframe to an interactive table.\"\n",
              "              style=\"display:none;\">\n",
              "        \n",
              "  <svg xmlns=\"http://www.w3.org/2000/svg\" height=\"24px\"viewBox=\"0 0 24 24\"\n",
              "       width=\"24px\">\n",
              "    <path d=\"M0 0h24v24H0V0z\" fill=\"none\"/>\n",
              "    <path d=\"M18.56 5.44l.94 2.06.94-2.06 2.06-.94-2.06-.94-.94-2.06-.94 2.06-2.06.94zm-11 1L8.5 8.5l.94-2.06 2.06-.94-2.06-.94L8.5 2.5l-.94 2.06-2.06.94zm10 10l.94 2.06.94-2.06 2.06-.94-2.06-.94-.94-2.06-.94 2.06-2.06.94z\"/><path d=\"M17.41 7.96l-1.37-1.37c-.4-.4-.92-.59-1.43-.59-.52 0-1.04.2-1.43.59L10.3 9.45l-7.72 7.72c-.78.78-.78 2.05 0 2.83L4 21.41c.39.39.9.59 1.41.59.51 0 1.02-.2 1.41-.59l7.78-7.78 2.81-2.81c.8-.78.8-2.07 0-2.86zM5.41 20L4 18.59l7.72-7.72 1.47 1.35L5.41 20z\"/>\n",
              "  </svg>\n",
              "      </button>\n",
              "      \n",
              "  <style>\n",
              "    .colab-df-container {\n",
              "      display:flex;\n",
              "      flex-wrap:wrap;\n",
              "      gap: 12px;\n",
              "    }\n",
              "\n",
              "    .colab-df-convert {\n",
              "      background-color: #E8F0FE;\n",
              "      border: none;\n",
              "      border-radius: 50%;\n",
              "      cursor: pointer;\n",
              "      display: none;\n",
              "      fill: #1967D2;\n",
              "      height: 32px;\n",
              "      padding: 0 0 0 0;\n",
              "      width: 32px;\n",
              "    }\n",
              "\n",
              "    .colab-df-convert:hover {\n",
              "      background-color: #E2EBFA;\n",
              "      box-shadow: 0px 1px 2px rgba(60, 64, 67, 0.3), 0px 1px 3px 1px rgba(60, 64, 67, 0.15);\n",
              "      fill: #174EA6;\n",
              "    }\n",
              "\n",
              "    [theme=dark] .colab-df-convert {\n",
              "      background-color: #3B4455;\n",
              "      fill: #D2E3FC;\n",
              "    }\n",
              "\n",
              "    [theme=dark] .colab-df-convert:hover {\n",
              "      background-color: #434B5C;\n",
              "      box-shadow: 0px 1px 3px 1px rgba(0, 0, 0, 0.15);\n",
              "      filter: drop-shadow(0px 1px 2px rgba(0, 0, 0, 0.3));\n",
              "      fill: #FFFFFF;\n",
              "    }\n",
              "  </style>\n",
              "\n",
              "      <script>\n",
              "        const buttonEl =\n",
              "          document.querySelector('#df-9517de2f-533c-4eba-bec9-d2dd83c88c15 button.colab-df-convert');\n",
              "        buttonEl.style.display =\n",
              "          google.colab.kernel.accessAllowed ? 'block' : 'none';\n",
              "\n",
              "        async function convertToInteractive(key) {\n",
              "          const element = document.querySelector('#df-9517de2f-533c-4eba-bec9-d2dd83c88c15');\n",
              "          const dataTable =\n",
              "            await google.colab.kernel.invokeFunction('convertToInteractive',\n",
              "                                                     [key], {});\n",
              "          if (!dataTable) return;\n",
              "\n",
              "          const docLinkHtml = 'Like what you see? Visit the ' +\n",
              "            '<a target=\"_blank\" href=https://colab.research.google.com/notebooks/data_table.ipynb>data table notebook</a>'\n",
              "            + ' to learn more about interactive tables.';\n",
              "          element.innerHTML = '';\n",
              "          dataTable['output_type'] = 'display_data';\n",
              "          await google.colab.output.renderOutput(dataTable, element);\n",
              "          const docLink = document.createElement('div');\n",
              "          docLink.innerHTML = docLinkHtml;\n",
              "          element.appendChild(docLink);\n",
              "        }\n",
              "      </script>\n",
              "    </div>\n",
              "  </div>\n",
              "  "
            ]
          },
          "metadata": {},
          "execution_count": 32
        }
      ]
    },
    {
      "cell_type": "markdown",
      "source": [
        "Данная таблица содержит 63326 объектов с 11 признаками.\n",
        "\n",
        "<br>\n",
        "<br>\n",
        "<br>\n",
        "\n",
        "***Подробнее о признаках:***\n",
        "1.   Agency - название агентства\n",
        "2.   Agency Type - тип агенства по страхованию путешествий\n",
        "3.   Distribution Channel - канал распространения страховых агенств\n",
        "4.   Product Name - название страхового продукта\n",
        "5.   Claim - статус страхового случая\n",
        "6.   Duration - продолжительность поездки\n",
        "7.   Destination - страна назачения\n",
        "8.   Net Sales - выручка от проданных страховых полисов\n",
        "9.   Commission - комиссия, которую получило страховое агентство\n",
        "10.  Gender - пол застрахованного\n",
        "11.  Age - возраст застрахованного\n",
        "\n",
        "\n",
        "\n",
        "**Необходимо проверить числовые признаки на наличие выбросов:**\n",
        "<br>\n",
        "Визуализируем график зависимости статуса страхового случая от продолжительности поездки:"
      ],
      "metadata": {
        "id": "woDiKh-qwojR"
      }
    },
    {
      "cell_type": "code",
      "source": [
        "plt.scatter(data['Duration'], data['Claim'], alpha=0.3)\n",
        "pass"
      ],
      "metadata": {
        "colab": {
          "base_uri": "https://localhost:8080/",
          "height": 265
        },
        "id": "4Wo6tclQxZdX",
        "outputId": "8d4b7f6b-e301-4ee6-bfec-ff8efbd933f1"
      },
      "execution_count": 3,
      "outputs": [
        {
          "output_type": "display_data",
          "data": {
            "text/plain": [
              "<Figure size 432x288 with 1 Axes>"
            ],
            "image/png": "[encoded data removed]"
          },
          "metadata": {
            "needs_background": "light"
          }
        }
      ]
    },
    {
      "cell_type": "markdown",
      "source": [
        "Теперь зависимость для признака \"Размер выручки от проданных страховок\":"
      ],
      "metadata": {
        "id": "-yBc7NHrxhO6"
      }
    },
    {
      "cell_type": "code",
      "source": [
        "plt.scatter(data['Net Sales'], data['Claim'], alpha=0.3)\n",
        "pass"
      ],
      "metadata": {
        "colab": {
          "base_uri": "https://localhost:8080/",
          "height": 265
        },
        "id": "d5tE4u5xxlCI",
        "outputId": "777a2be8-2dcd-4651-bd48-1c46b02b7a3f"
      },
      "execution_count": 4,
      "outputs": [
        {
          "output_type": "display_data",
          "data": {
            "text/plain": [
              "<Figure size 432x288 with 1 Axes>"
            ],
            "image/png": "[encoded data removed]"
          },
          "metadata": {
            "needs_background": "light"
          }
        }
      ]
    },
    {
      "cell_type": "markdown",
      "source": [
        "Зависимость для признака \"Комиссия\":"
      ],
      "metadata": {
        "id": "eab2WrdJxqnH"
      }
    },
    {
      "cell_type": "code",
      "source": [
        "plt.scatter(data['Commision (in value)'], data['Claim'], alpha=0.3)\n",
        "pass"
      ],
      "metadata": {
        "colab": {
          "base_uri": "https://localhost:8080/",
          "height": 265
        },
        "id": "-FyfIzpYxvFt",
        "outputId": "b480cc4e-647c-4466-cca7-9d74193b4571"
      },
      "execution_count": 5,
      "outputs": [
        {
          "output_type": "display_data",
          "data": {
            "text/plain": [
              "<Figure size 432x288 with 1 Axes>"
            ],
            "image/png": "[encoded data removed]"
          },
          "metadata": {
            "needs_background": "light"
          }
        }
      ]
    },
    {
      "cell_type": "markdown",
      "source": [
        "Зависимость для признака \"Возраст застрахованного\""
      ],
      "metadata": {
        "id": "Uo5syqX6xzLj"
      }
    },
    {
      "cell_type": "code",
      "source": [
        "plt.scatter(data['Age'], data['Claim'], alpha=0.3)\n",
        "pass"
      ],
      "metadata": {
        "colab": {
          "base_uri": "https://localhost:8080/",
          "height": 265
        },
        "id": "QD1zNgwix16m",
        "outputId": "b6ccbe46-b8a4-41b9-9ba4-9fd917449dd6"
      },
      "execution_count": 6,
      "outputs": [
        {
          "output_type": "display_data",
          "data": {
            "text/plain": [
              "<Figure size 432x288 with 1 Axes>"
            ],
            "image/png": "[encoded data removed]"
          },
          "metadata": {
            "needs_background": "light"
          }
        }
      ]
    },
    {
      "cell_type": "markdown",
      "source": [
        "По первому графику видно, что есть вероятность выбросов справа снизу. На втором графике выбросы наблюдаются слева и справа снизу. На третьем графике - справа. На четвертом графике - справа. <br>\n",
        "\n",
        "Посчитаем для всех зависимостей квантили:"
      ],
      "metadata": {
        "id": "HTRCtGbKx6tK"
      }
    },
    {
      "cell_type": "code",
      "source": [
        "data['Duration'].quantile([0.005,.01,.05,.1,.5,.9,.95,.99,.995])"
      ],
      "metadata": {
        "colab": {
          "base_uri": "https://localhost:8080/"
        },
        "id": "kgxhrF42x-nH",
        "outputId": "0930aaf2-5786-45dd-95c9-8567c2fb7721"
      },
      "execution_count": 7,
      "outputs": [
        {
          "output_type": "execute_result",
          "data": {
            "text/plain": [
              "0.005      1.0\n",
              "0.010      1.0\n",
              "0.050      3.0\n",
              "0.100      5.0\n",
              "0.500     22.0\n",
              "0.900    109.0\n",
              "0.950    190.0\n",
              "0.990    374.0\n",
              "0.995    388.0\n",
              "Name: Duration, dtype: float64"
            ]
          },
          "metadata": {},
          "execution_count": 7
        }
      ]
    },
    {
      "cell_type": "code",
      "source": [
        "data['Net Sales'].quantile([0.005,.01,.05,.1,.5,.9,.95,.99,.995])"
      ],
      "metadata": {
        "colab": {
          "base_uri": "https://localhost:8080/"
        },
        "id": "hrakxeZYyD-_",
        "outputId": "afb9e567-6cc1-40c1-8aaf-d15a8aeca942"
      },
      "execution_count": 8,
      "outputs": [
        {
          "output_type": "execute_result",
          "data": {
            "text/plain": [
              "0.005    -49.5000\n",
              "0.010    -12.0000\n",
              "0.050      4.8825\n",
              "0.100     10.0000\n",
              "0.500     26.5300\n",
              "0.900     80.0000\n",
              "0.950    112.0000\n",
              "0.990    252.8500\n",
              "0.995    291.7500\n",
              "Name: Net Sales, dtype: float64"
            ]
          },
          "metadata": {},
          "execution_count": 8
        }
      ]
    },
    {
      "cell_type": "code",
      "source": [
        "data['Commision (in value)'].quantile([0.005,.01,.05,.1,.5,.9,.95,.99,.995])"
      ],
      "metadata": {
        "colab": {
          "base_uri": "https://localhost:8080/"
        },
        "id": "HlaM6eSRyK7I",
        "outputId": "8b181810-774d-4d1c-8f65-071ce5ff4c18"
      },
      "execution_count": 9,
      "outputs": [
        {
          "output_type": "execute_result",
          "data": {
            "text/plain": [
              "0.005      0.00\n",
              "0.010      0.00\n",
              "0.050      0.00\n",
              "0.100      0.00\n",
              "0.500      0.00\n",
              "0.900     29.70\n",
              "0.950     51.13\n",
              "0.990     89.10\n",
              "0.995    112.86\n",
              "Name: Commision (in value), dtype: float64"
            ]
          },
          "metadata": {},
          "execution_count": 9
        }
      ]
    },
    {
      "cell_type": "code",
      "source": [
        "data['Age'].quantile([0.005,.01,.05,.1,.5,.9,.95,.98,.995])"
      ],
      "metadata": {
        "colab": {
          "base_uri": "https://localhost:8080/"
        },
        "id": "z1nbYn32yOas",
        "outputId": "4e9541a8-283c-4bb3-82a3-f422c3faa13b"
      },
      "execution_count": 10,
      "outputs": [
        {
          "output_type": "execute_result",
          "data": {
            "text/plain": [
              "0.005     20.0\n",
              "0.010     21.0\n",
              "0.050     25.0\n",
              "0.100     28.0\n",
              "0.500     36.0\n",
              "0.900     55.0\n",
              "0.950     63.0\n",
              "0.980     75.0\n",
              "0.995    118.0\n",
              "Name: Age, dtype: float64"
            ]
          },
          "metadata": {},
          "execution_count": 10
        }
      ]
    },
    {
      "cell_type": "markdown",
      "source": [
        "Получаем, что <br>\n",
        "99,5% путешествий длятся меньше 388 дней <br>\n",
        "99,5% выручки варьируется в диапазоне от -49.5 до 291.75 <br>\n",
        "99,5% комиссии не превышает отметку в 112.86 <br>\n",
        "99,5% людей, младше 118 лет\n",
        "\n",
        "<br>\n",
        "<br>\n",
        "<br>\n",
        "Удаляем все строчки из датасета, которые соответсвуют выбросам:"
      ],
      "metadata": {
        "id": "syQkw-3YyS-l"
      }
    },
    {
      "cell_type": "code",
      "source": [
        "rows_to_drop = data[\n",
        "    (data['Duration'] > data['Duration'].quantile(0.995)) | \n",
        "    (data['Net Sales']  < data['Net Sales' ].quantile(0.005)) | (data['Net Sales']  > data['Net Sales' ].quantile(0.995)) | \n",
        "    (data['Age']  < data['Age' ].quantile(0.005)) | (data['Age']  > data['Age' ].quantile(0.98)) |\n",
        "    (data['Commision (in value)']  > data['Commision (in value)' ].quantile(0.995))].index\n",
        "upd_data = data.drop(rows_to_drop)\n",
        "upd_data.shape"
      ],
      "metadata": {
        "colab": {
          "base_uri": "https://localhost:8080/"
        },
        "id": "o9hbZHWBjspV",
        "outputId": "f080d122-f611-4dc0-9777-4c9c2f8de6bc"
      },
      "execution_count": 11,
      "outputs": [
        {
          "output_type": "execute_result",
          "data": {
            "text/plain": [
              "(60782, 11)"
            ]
          },
          "metadata": {},
          "execution_count": 11
        }
      ]
    },
    {
      "cell_type": "markdown",
      "source": [
        "\n",
        "**Теперь преобразуем признаки типа object в категориальные:**"
      ],
      "metadata": {
        "id": "3y67dQh3yhvI"
      }
    },
    {
      "cell_type": "markdown",
      "source": [
        "Рассмотрим все категории:"
      ],
      "metadata": {
        "id": "1gctJDHyxCSw"
      }
    },
    {
      "cell_type": "code",
      "source": [
        "upd_data.info()"
      ],
      "metadata": {
        "colab": {
          "base_uri": "https://localhost:8080/"
        },
        "id": "kocJEe6Wjl08",
        "outputId": "13b8f05f-fc0e-4725-86f8-48dfe6871542"
      },
      "execution_count": 12,
      "outputs": [
        {
          "output_type": "stream",
          "name": "stdout",
          "text": [
            "<class 'pandas.core.frame.DataFrame'>\n",
            "Int64Index: 60782 entries, 1 to 63325\n",
            "Data columns (total 11 columns):\n",
            " #   Column                Non-Null Count  Dtype  \n",
            "---  ------                --------------  -----  \n",
            " 0   Agency                60782 non-null  object \n",
            " 1   Agency Type           60782 non-null  object \n",
            " 2   Distribution Channel  60782 non-null  object \n",
            " 3   Product Name          60782 non-null  object \n",
            " 4   Claim                 60782 non-null  object \n",
            " 5   Duration              60782 non-null  int64  \n",
            " 6   Destination           60782 non-null  object \n",
            " 7   Net Sales             60782 non-null  float64\n",
            " 8   Commision (in value)  60782 non-null  float64\n",
            " 9   Gender                16250 non-null  object \n",
            " 10  Age                   60782 non-null  int64  \n",
            "dtypes: float64(2), int64(2), object(7)\n",
            "memory usage: 5.6+ MB\n"
          ]
        }
      ]
    },
    {
      "cell_type": "markdown",
      "source": [
        " 0   Agency (категориальный)              \n",
        " 1   Agency Type (категориальный) <br>\n",
        " 2   Distribution Channel (категориальный) <br>\n",
        " 3   Product Name (категориальный)<br>\n",
        " 4   Claim <br>\n",
        " 5   Duration (числовой) <br>\n",
        " 6   Destination (категориальный) <br>\n",
        " 7   Net Sales (числовой) <br>\n",
        " 8   Commision (in value) (числовой) <br>\n",
        " 9   Gender (категориальный) <br>\n",
        " 10  Age (числовой)\n"
      ],
      "metadata": {
        "id": "Up48JxbKwzdF"
      }
    },
    {
      "cell_type": "code",
      "source": [
        "upd_data['Agency'] = upd_data['Agency'].astype('category')\n",
        "upd_data['Agency Type'] = upd_data['Agency Type'].astype('category')\n",
        "upd_data['Distribution Channel'] = upd_data['Distribution Channel'].astype('category')\n",
        "upd_data['Product Name'] = upd_data['Product Name'].astype('category')\n",
        "upd_data['Destination'] = upd_data['Destination'].astype('category')\n",
        "upd_data['Gender'] = upd_data['Gender'].astype('category')"
      ],
      "metadata": {
        "id": "SONi0zF5jxgU"
      },
      "execution_count": 13,
      "outputs": []
    },
    {
      "cell_type": "code",
      "source": [
        "upd_data['Gender'].dtype"
      ],
      "metadata": {
        "colab": {
          "base_uri": "https://localhost:8080/"
        },
        "id": "PpMqgACRjzL2",
        "outputId": "de6f0e09-4b82-47c4-e3ad-cb45b85081c5"
      },
      "execution_count": 14,
      "outputs": [
        {
          "output_type": "execute_result",
          "data": {
            "text/plain": [
              "CategoricalDtype(categories=['F', 'M'], ordered=False)"
            ]
          },
          "metadata": {},
          "execution_count": 14
        }
      ]
    },
    {
      "cell_type": "code",
      "source": [
        "upd_data.info()"
      ],
      "metadata": {
        "colab": {
          "base_uri": "https://localhost:8080/"
        },
        "id": "UpnvIR1EzCtc",
        "outputId": "dfc948b1-a705-4078-e536-2fa3dd6c5401"
      },
      "execution_count": 15,
      "outputs": [
        {
          "output_type": "stream",
          "name": "stdout",
          "text": [
            "<class 'pandas.core.frame.DataFrame'>\n",
            "Int64Index: 60782 entries, 1 to 63325\n",
            "Data columns (total 11 columns):\n",
            " #   Column                Non-Null Count  Dtype   \n",
            "---  ------                --------------  -----   \n",
            " 0   Agency                60782 non-null  category\n",
            " 1   Agency Type           60782 non-null  category\n",
            " 2   Distribution Channel  60782 non-null  category\n",
            " 3   Product Name          60782 non-null  category\n",
            " 4   Claim                 60782 non-null  object  \n",
            " 5   Duration              60782 non-null  int64   \n",
            " 6   Destination           60782 non-null  category\n",
            " 7   Net Sales             60782 non-null  float64 \n",
            " 8   Commision (in value)  60782 non-null  float64 \n",
            " 9   Gender                16250 non-null  category\n",
            " 10  Age                   60782 non-null  int64   \n",
            "dtypes: category(6), float64(2), int64(2), object(1)\n",
            "memory usage: 3.2+ MB\n"
          ]
        }
      ]
    },
    {
      "cell_type": "markdown",
      "source": [
        "## **2. Визуализация данных и вычисление основных характеристик**\n",
        "\n",
        "---\n",
        "\n",
        "\n",
        "Описательная статистика по датасету:"
      ],
      "metadata": {
        "id": "hHVc4vwRzoH7"
      }
    },
    {
      "cell_type": "code",
      "source": [
        "upd_data.describe()"
      ],
      "metadata": {
        "colab": {
          "base_uri": "https://localhost:8080/",
          "height": 300
        },
        "id": "evyF1uiCzrPO",
        "outputId": "a9bed438-706c-4e10-bde4-b796d69bd13c"
      },
      "execution_count": 16,
      "outputs": [
        {
          "output_type": "execute_result",
          "data": {
            "text/plain": [
              "           Duration     Net Sales  Commision (in value)           Age\n",
              "count  60782.000000  60782.000000          60782.000000  60782.000000\n",
              "mean      44.561745     38.383437              8.293383     38.630499\n",
              "std       65.412176     38.869487             15.382017      9.615026\n",
              "min        0.000000    -49.500000              0.000000     20.000000\n",
              "25%        9.000000     18.000000              0.000000     35.000000\n",
              "50%       22.000000     26.000000              0.000000     36.000000\n",
              "75%       51.000000     46.000000             10.000000     42.000000\n",
              "max      388.000000    291.750000            112.860000     75.000000"
            ],
            "text/html": [
              "\n",
              "  <div id=\"df-a0b9f644-030c-4546-a115-9092a43fdf43\">\n",
              "    <div class=\"colab-df-container\">\n",
              "      <div>\n",
              "<style scoped>\n",
              "    .dataframe tbody tr th:only-of-type {\n",
              "        vertical-align: middle;\n",
              "    }\n",
              "\n",
              "    .dataframe tbody tr th {\n",
              "        vertical-align: top;\n",
              "    }\n",
              "\n",
              "    .dataframe thead th {\n",
              "        text-align: right;\n",
              "    }\n",
              "</style>\n",
              "<table border=\"1\" class=\"dataframe\">\n",
              "  <thead>\n",
              "    <tr style=\"text-align: right;\">\n",
              "      <th></th>\n",
              "      <th>Duration</th>\n",
              "      <th>Net Sales</th>\n",
              "      <th>Commision (in value)</th>\n",
              "      <th>Age</th>\n",
              "    </tr>\n",
              "  </thead>\n",
              "  <tbody>\n",
              "    <tr>\n",
              "      <th>count</th>\n",
              "      <td>60782.000000</td>\n",
              "      <td>60782.000000</td>\n",
              "      <td>60782.000000</td>\n",
              "      <td>60782.000000</td>\n",
              "    </tr>\n",
              "    <tr>\n",
              "      <th>mean</th>\n",
              "      <td>44.561745</td>\n",
              "      <td>38.383437</td>\n",
              "      <td>8.293383</td>\n",
              "      <td>38.630499</td>\n",
              "    </tr>\n",
              "    <tr>\n",
              "      <th>std</th>\n",
              "      <td>65.412176</td>\n",
              "      <td>38.869487</td>\n",
              "      <td>15.382017</td>\n",
              "      <td>9.615026</td>\n",
              "    </tr>\n",
              "    <tr>\n",
              "      <th>min</th>\n",
              "      <td>0.000000</td>\n",
              "      <td>-49.500000</td>\n",
              "      <td>0.000000</td>\n",
              "      <td>20.000000</td>\n",
              "    </tr>\n",
              "    <tr>\n",
              "      <th>25%</th>\n",
              "      <td>9.000000</td>\n",
              "      <td>18.000000</td>\n",
              "      <td>0.000000</td>\n",
              "      <td>35.000000</td>\n",
              "    </tr>\n",
              "    <tr>\n",
              "      <th>50%</th>\n",
              "      <td>22.000000</td>\n",
              "      <td>26.000000</td>\n",
              "      <td>0.000000</td>\n",
              "      <td>36.000000</td>\n",
              "    </tr>\n",
              "    <tr>\n",
              "      <th>75%</th>\n",
              "      <td>51.000000</td>\n",
              "      <td>46.000000</td>\n",
              "      <td>10.000000</td>\n",
              "      <td>42.000000</td>\n",
              "    </tr>\n",
              "    <tr>\n",
              "      <th>max</th>\n",
              "      <td>388.000000</td>\n",
              "      <td>291.750000</td>\n",
              "      <td>112.860000</td>\n",
              "      <td>75.000000</td>\n",
              "    </tr>\n",
              "  </tbody>\n",
              "</table>\n",
              "</div>\n",
              "      <button class=\"colab-df-convert\" onclick=\"convertToInteractive('df-a0b9f644-030c-4546-a115-9092a43fdf43')\"\n",
              "              title=\"Convert this dataframe to an interactive table.\"\n",
              "              style=\"display:none;\">\n",
              "        \n",
              "  <svg xmlns=\"http://www.w3.org/2000/svg\" height=\"24px\"viewBox=\"0 0 24 24\"\n",
              "       width=\"24px\">\n",
              "    <path d=\"M0 0h24v24H0V0z\" fill=\"none\"/>\n",
              "    <path d=\"M18.56 5.44l.94 2.06.94-2.06 2.06-.94-2.06-.94-.94-2.06-.94 2.06-2.06.94zm-11 1L8.5 8.5l.94-2.06 2.06-.94-2.06-.94L8.5 2.5l-.94 2.06-2.06.94zm10 10l.94 2.06.94-2.06 2.06-.94-2.06-.94-.94-2.06-.94 2.06-2.06.94z\"/><path d=\"M17.41 7.96l-1.37-1.37c-.4-.4-.92-.59-1.43-.59-.52 0-1.04.2-1.43.59L10.3 9.45l-7.72 7.72c-.78.78-.78 2.05 0 2.83L4 21.41c.39.39.9.59 1.41.59.51 0 1.02-.2 1.41-.59l7.78-7.78 2.81-2.81c.8-.78.8-2.07 0-2.86zM5.41 20L4 18.59l7.72-7.72 1.47 1.35L5.41 20z\"/>\n",
              "  </svg>\n",
              "      </button>\n",
              "      \n",
              "  <style>\n",
              "    .colab-df-container {\n",
              "      display:flex;\n",
              "      flex-wrap:wrap;\n",
              "      gap: 12px;\n",
              "    }\n",
              "\n",
              "    .colab-df-convert {\n",
              "      background-color: #E8F0FE;\n",
              "      border: none;\n",
              "      border-radius: 50%;\n",
              "      cursor: pointer;\n",
              "      display: none;\n",
              "      fill: #1967D2;\n",
              "      height: 32px;\n",
              "      padding: 0 0 0 0;\n",
              "      width: 32px;\n",
              "    }\n",
              "\n",
              "    .colab-df-convert:hover {\n",
              "      background-color: #E2EBFA;\n",
              "      box-shadow: 0px 1px 2px rgba(60, 64, 67, 0.3), 0px 1px 3px 1px rgba(60, 64, 67, 0.15);\n",
              "      fill: #174EA6;\n",
              "    }\n",
              "\n",
              "    [theme=dark] .colab-df-convert {\n",
              "      background-color: #3B4455;\n",
              "      fill: #D2E3FC;\n",
              "    }\n",
              "\n",
              "    [theme=dark] .colab-df-convert:hover {\n",
              "      background-color: #434B5C;\n",
              "      box-shadow: 0px 1px 3px 1px rgba(0, 0, 0, 0.15);\n",
              "      filter: drop-shadow(0px 1px 2px rgba(0, 0, 0, 0.3));\n",
              "      fill: #FFFFFF;\n",
              "    }\n",
              "  </style>\n",
              "\n",
              "      <script>\n",
              "        const buttonEl =\n",
              "          document.querySelector('#df-a0b9f644-030c-4546-a115-9092a43fdf43 button.colab-df-convert');\n",
              "        buttonEl.style.display =\n",
              "          google.colab.kernel.accessAllowed ? 'block' : 'none';\n",
              "\n",
              "        async function convertToInteractive(key) {\n",
              "          const element = document.querySelector('#df-a0b9f644-030c-4546-a115-9092a43fdf43');\n",
              "          const dataTable =\n",
              "            await google.colab.kernel.invokeFunction('convertToInteractive',\n",
              "                                                     [key], {});\n",
              "          if (!dataTable) return;\n",
              "\n",
              "          const docLinkHtml = 'Like what you see? Visit the ' +\n",
              "            '<a target=\"_blank\" href=https://colab.research.google.com/notebooks/data_table.ipynb>data table notebook</a>'\n",
              "            + ' to learn more about interactive tables.';\n",
              "          element.innerHTML = '';\n",
              "          dataTable['output_type'] = 'display_data';\n",
              "          await google.colab.output.renderOutput(dataTable, element);\n",
              "          const docLink = document.createElement('div');\n",
              "          docLink.innerHTML = docLinkHtml;\n",
              "          element.appendChild(docLink);\n",
              "        }\n",
              "      </script>\n",
              "    </div>\n",
              "  </div>\n",
              "  "
            ]
          },
          "metadata": {},
          "execution_count": 16
        }
      ]
    },
    {
      "cell_type": "markdown",
      "source": [
        "где *count* - количество значений для каждого признака. В данной таблице представлены данные только числовых признаков, причем ни в одном из них нет пропущенных значений, поэтому количества значений для представленных признаков равны. <br>\n",
        "*mean* - среднее значение <br>\n",
        "*std* - стандартное отклонение <br>\n",
        "*min* - минимальное значение <br>\n",
        "*25%* - первый квартиль <br>\n",
        "*50%* - медиана <br>\n",
        "*75%* - третий квартиль <br>\n",
        "*max* - максимальное значение <br>\n",
        "\n",
        "<br> \n",
        "Теперь рассмотрим категориальные признаки:"
      ],
      "metadata": {
        "id": "eI9mKsQc1HJe"
      }
    },
    {
      "cell_type": "code",
      "source": [
        "upd_data.describe(include=['category'])"
      ],
      "metadata": {
        "colab": {
          "base_uri": "https://localhost:8080/",
          "height": 175
        },
        "id": "KSqS_oBl1NVc",
        "outputId": "3322a31f-595b-4c7a-bc4a-bcdb6b9145ff"
      },
      "execution_count": 17,
      "outputs": [
        {
          "output_type": "execute_result",
          "data": {
            "text/plain": [
              "       Agency    Agency Type Distribution Channel       Product Name  \\\n",
              "count   60782          60782                60782              60782   \n",
              "unique     15              2                    2                 24   \n",
              "top       EPX  Travel Agency               Online  Cancellation Plan   \n",
              "freq    34916          44978                59922              18538   \n",
              "\n",
              "       Destination Gender  \n",
              "count        60782  16250  \n",
              "unique         146      2  \n",
              "top      SINGAPORE      M  \n",
              "freq         12559   8257  "
            ],
            "text/html": [
              "\n",
              "  <div id=\"df-044d891f-567b-4ef5-a193-2edc1d1005b9\">\n",
              "    <div class=\"colab-df-container\">\n",
              "      <div>\n",
              "<style scoped>\n",
              "    .dataframe tbody tr th:only-of-type {\n",
              "        vertical-align: middle;\n",
              "    }\n",
              "\n",
              "    .dataframe tbody tr th {\n",
              "        vertical-align: top;\n",
              "    }\n",
              "\n",
              "    .dataframe thead th {\n",
              "        text-align: right;\n",
              "    }\n",
              "</style>\n",
              "<table border=\"1\" class=\"dataframe\">\n",
              "  <thead>\n",
              "    <tr style=\"text-align: right;\">\n",
              "      <th></th>\n",
              "      <th>Agency</th>\n",
              "      <th>Agency Type</th>\n",
              "      <th>Distribution Channel</th>\n",
              "      <th>Product Name</th>\n",
              "      <th>Destination</th>\n",
              "      <th>Gender</th>\n",
              "    </tr>\n",
              "  </thead>\n",
              "  <tbody>\n",
              "    <tr>\n",
              "      <th>count</th>\n",
              "      <td>60782</td>\n",
              "      <td>60782</td>\n",
              "      <td>60782</td>\n",
              "      <td>60782</td>\n",
              "      <td>60782</td>\n",
              "      <td>16250</td>\n",
              "    </tr>\n",
              "    <tr>\n",
              "      <th>unique</th>\n",
              "      <td>15</td>\n",
              "      <td>2</td>\n",
              "      <td>2</td>\n",
              "      <td>24</td>\n",
              "      <td>146</td>\n",
              "      <td>2</td>\n",
              "    </tr>\n",
              "    <tr>\n",
              "      <th>top</th>\n",
              "      <td>EPX</td>\n",
              "      <td>Travel Agency</td>\n",
              "      <td>Online</td>\n",
              "      <td>Cancellation Plan</td>\n",
              "      <td>SINGAPORE</td>\n",
              "      <td>M</td>\n",
              "    </tr>\n",
              "    <tr>\n",
              "      <th>freq</th>\n",
              "      <td>34916</td>\n",
              "      <td>44978</td>\n",
              "      <td>59922</td>\n",
              "      <td>18538</td>\n",
              "      <td>12559</td>\n",
              "      <td>8257</td>\n",
              "    </tr>\n",
              "  </tbody>\n",
              "</table>\n",
              "</div>\n",
              "      <button class=\"colab-df-convert\" onclick=\"convertToInteractive('df-044d891f-567b-4ef5-a193-2edc1d1005b9')\"\n",
              "              title=\"Convert this dataframe to an interactive table.\"\n",
              "              style=\"display:none;\">\n",
              "        \n",
              "  <svg xmlns=\"http://www.w3.org/2000/svg\" height=\"24px\"viewBox=\"0 0 24 24\"\n",
              "       width=\"24px\">\n",
              "    <path d=\"M0 0h24v24H0V0z\" fill=\"none\"/>\n",
              "    <path d=\"M18.56 5.44l.94 2.06.94-2.06 2.06-.94-2.06-.94-.94-2.06-.94 2.06-2.06.94zm-11 1L8.5 8.5l.94-2.06 2.06-.94-2.06-.94L8.5 2.5l-.94 2.06-2.06.94zm10 10l.94 2.06.94-2.06 2.06-.94-2.06-.94-.94-2.06-.94 2.06-2.06.94z\"/><path d=\"M17.41 7.96l-1.37-1.37c-.4-.4-.92-.59-1.43-.59-.52 0-1.04.2-1.43.59L10.3 9.45l-7.72 7.72c-.78.78-.78 2.05 0 2.83L4 21.41c.39.39.9.59 1.41.59.51 0 1.02-.2 1.41-.59l7.78-7.78 2.81-2.81c.8-.78.8-2.07 0-2.86zM5.41 20L4 18.59l7.72-7.72 1.47 1.35L5.41 20z\"/>\n",
              "  </svg>\n",
              "      </button>\n",
              "      \n",
              "  <style>\n",
              "    .colab-df-container {\n",
              "      display:flex;\n",
              "      flex-wrap:wrap;\n",
              "      gap: 12px;\n",
              "    }\n",
              "\n",
              "    .colab-df-convert {\n",
              "      background-color: #E8F0FE;\n",
              "      border: none;\n",
              "      border-radius: 50%;\n",
              "      cursor: pointer;\n",
              "      display: none;\n",
              "      fill: #1967D2;\n",
              "      height: 32px;\n",
              "      padding: 0 0 0 0;\n",
              "      width: 32px;\n",
              "    }\n",
              "\n",
              "    .colab-df-convert:hover {\n",
              "      background-color: #E2EBFA;\n",
              "      box-shadow: 0px 1px 2px rgba(60, 64, 67, 0.3), 0px 1px 3px 1px rgba(60, 64, 67, 0.15);\n",
              "      fill: #174EA6;\n",
              "    }\n",
              "\n",
              "    [theme=dark] .colab-df-convert {\n",
              "      background-color: #3B4455;\n",
              "      fill: #D2E3FC;\n",
              "    }\n",
              "\n",
              "    [theme=dark] .colab-df-convert:hover {\n",
              "      background-color: #434B5C;\n",
              "      box-shadow: 0px 1px 3px 1px rgba(0, 0, 0, 0.15);\n",
              "      filter: drop-shadow(0px 1px 2px rgba(0, 0, 0, 0.3));\n",
              "      fill: #FFFFFF;\n",
              "    }\n",
              "  </style>\n",
              "\n",
              "      <script>\n",
              "        const buttonEl =\n",
              "          document.querySelector('#df-044d891f-567b-4ef5-a193-2edc1d1005b9 button.colab-df-convert');\n",
              "        buttonEl.style.display =\n",
              "          google.colab.kernel.accessAllowed ? 'block' : 'none';\n",
              "\n",
              "        async function convertToInteractive(key) {\n",
              "          const element = document.querySelector('#df-044d891f-567b-4ef5-a193-2edc1d1005b9');\n",
              "          const dataTable =\n",
              "            await google.colab.kernel.invokeFunction('convertToInteractive',\n",
              "                                                     [key], {});\n",
              "          if (!dataTable) return;\n",
              "\n",
              "          const docLinkHtml = 'Like what you see? Visit the ' +\n",
              "            '<a target=\"_blank\" href=https://colab.research.google.com/notebooks/data_table.ipynb>data table notebook</a>'\n",
              "            + ' to learn more about interactive tables.';\n",
              "          element.innerHTML = '';\n",
              "          dataTable['output_type'] = 'display_data';\n",
              "          await google.colab.output.renderOutput(dataTable, element);\n",
              "          const docLink = document.createElement('div');\n",
              "          docLink.innerHTML = docLinkHtml;\n",
              "          element.appendChild(docLink);\n",
              "        }\n",
              "      </script>\n",
              "    </div>\n",
              "  </div>\n",
              "  "
            ]
          },
          "metadata": {},
          "execution_count": 17
        }
      ]
    },
    {
      "cell_type": "markdown",
      "source": [
        "где *count* - количество значений для каждого признака (значения признака Gender отличаются от всех остальных, так как в нем есть пропущенные значения) <br>\n",
        "*unique* - количество уникальных значений <br>\n",
        "*top* - значения, встречающиеся чаще всего <br>\n",
        "*freq* - частота значений top <br>\n",
        "\n",
        "<br>\n",
        "<br>\n",
        "<br>\n",
        "<br>\n",
        "\n",
        "Вычислим матрицу корреляции:"
      ],
      "metadata": {
        "id": "Wr4Z7on11eq6"
      }
    },
    {
      "cell_type": "code",
      "source": [
        "corr_matrix = upd_data.corr()\n",
        "corr_matrix"
      ],
      "metadata": {
        "colab": {
          "base_uri": "https://localhost:8080/",
          "height": 175
        },
        "id": "ZLUJ0Oqaj-u5",
        "outputId": "7ddb882a-04b5-400b-bd24-42d539efe12f"
      },
      "execution_count": 39,
      "outputs": [
        {
          "output_type": "execute_result",
          "data": {
            "text/plain": [
              "                      Duration  Net Sales  Commision (in value)       Age\n",
              "Duration              1.000000   0.565808              0.364603  0.014525\n",
              "Net Sales             0.565808   1.000000              0.600208  0.024196\n",
              "Commision (in value)  0.364603   0.600208              1.000000  0.127943\n",
              "Age                   0.014525   0.024196              0.127943  1.000000"
            ],
            "text/html": [
              "\n",
              "  <div id=\"df-4a522594-fa5e-4b72-b8ef-e11dbde2c958\">\n",
              "    <div class=\"colab-df-container\">\n",
              "      <div>\n",
              "<style scoped>\n",
              "    .dataframe tbody tr th:only-of-type {\n",
              "        vertical-align: middle;\n",
              "    }\n",
              "\n",
              "    .dataframe tbody tr th {\n",
              "        vertical-align: top;\n",
              "    }\n",
              "\n",
              "    .dataframe thead th {\n",
              "        text-align: right;\n",
              "    }\n",
              "</style>\n",
              "<table border=\"1\" class=\"dataframe\">\n",
              "  <thead>\n",
              "    <tr style=\"text-align: right;\">\n",
              "      <th></th>\n",
              "      <th>Duration</th>\n",
              "      <th>Net Sales</th>\n",
              "      <th>Commision (in value)</th>\n",
              "      <th>Age</th>\n",
              "    </tr>\n",
              "  </thead>\n",
              "  <tbody>\n",
              "    <tr>\n",
              "      <th>Duration</th>\n",
              "      <td>1.000000</td>\n",
              "      <td>0.565808</td>\n",
              "      <td>0.364603</td>\n",
              "      <td>0.014525</td>\n",
              "    </tr>\n",
              "    <tr>\n",
              "      <th>Net Sales</th>\n",
              "      <td>0.565808</td>\n",
              "      <td>1.000000</td>\n",
              "      <td>0.600208</td>\n",
              "      <td>0.024196</td>\n",
              "    </tr>\n",
              "    <tr>\n",
              "      <th>Commision (in value)</th>\n",
              "      <td>0.364603</td>\n",
              "      <td>0.600208</td>\n",
              "      <td>1.000000</td>\n",
              "      <td>0.127943</td>\n",
              "    </tr>\n",
              "    <tr>\n",
              "      <th>Age</th>\n",
              "      <td>0.014525</td>\n",
              "      <td>0.024196</td>\n",
              "      <td>0.127943</td>\n",
              "      <td>1.000000</td>\n",
              "    </tr>\n",
              "  </tbody>\n",
              "</table>\n",
              "</div>\n",
              "      <button class=\"colab-df-convert\" onclick=\"convertToInteractive('df-4a522594-fa5e-4b72-b8ef-e11dbde2c958')\"\n",
              "              title=\"Convert this dataframe to an interactive table.\"\n",
              "              style=\"display:none;\">\n",
              "        \n",
              "  <svg xmlns=\"http://www.w3.org/2000/svg\" height=\"24px\"viewBox=\"0 0 24 24\"\n",
              "       width=\"24px\">\n",
              "    <path d=\"M0 0h24v24H0V0z\" fill=\"none\"/>\n",
              "    <path d=\"M18.56 5.44l.94 2.06.94-2.06 2.06-.94-2.06-.94-.94-2.06-.94 2.06-2.06.94zm-11 1L8.5 8.5l.94-2.06 2.06-.94-2.06-.94L8.5 2.5l-.94 2.06-2.06.94zm10 10l.94 2.06.94-2.06 2.06-.94-2.06-.94-.94-2.06-.94 2.06-2.06.94z\"/><path d=\"M17.41 7.96l-1.37-1.37c-.4-.4-.92-.59-1.43-.59-.52 0-1.04.2-1.43.59L10.3 9.45l-7.72 7.72c-.78.78-.78 2.05 0 2.83L4 21.41c.39.39.9.59 1.41.59.51 0 1.02-.2 1.41-.59l7.78-7.78 2.81-2.81c.8-.78.8-2.07 0-2.86zM5.41 20L4 18.59l7.72-7.72 1.47 1.35L5.41 20z\"/>\n",
              "  </svg>\n",
              "      </button>\n",
              "      \n",
              "  <style>\n",
              "    .colab-df-container {\n",
              "      display:flex;\n",
              "      flex-wrap:wrap;\n",
              "      gap: 12px;\n",
              "    }\n",
              "\n",
              "    .colab-df-convert {\n",
              "      background-color: #E8F0FE;\n",
              "      border: none;\n",
              "      border-radius: 50%;\n",
              "      cursor: pointer;\n",
              "      display: none;\n",
              "      fill: #1967D2;\n",
              "      height: 32px;\n",
              "      padding: 0 0 0 0;\n",
              "      width: 32px;\n",
              "    }\n",
              "\n",
              "    .colab-df-convert:hover {\n",
              "      background-color: #E2EBFA;\n",
              "      box-shadow: 0px 1px 2px rgba(60, 64, 67, 0.3), 0px 1px 3px 1px rgba(60, 64, 67, 0.15);\n",
              "      fill: #174EA6;\n",
              "    }\n",
              "\n",
              "    [theme=dark] .colab-df-convert {\n",
              "      background-color: #3B4455;\n",
              "      fill: #D2E3FC;\n",
              "    }\n",
              "\n",
              "    [theme=dark] .colab-df-convert:hover {\n",
              "      background-color: #434B5C;\n",
              "      box-shadow: 0px 1px 3px 1px rgba(0, 0, 0, 0.15);\n",
              "      filter: drop-shadow(0px 1px 2px rgba(0, 0, 0, 0.3));\n",
              "      fill: #FFFFFF;\n",
              "    }\n",
              "  </style>\n",
              "\n",
              "      <script>\n",
              "        const buttonEl =\n",
              "          document.querySelector('#df-4a522594-fa5e-4b72-b8ef-e11dbde2c958 button.colab-df-convert');\n",
              "        buttonEl.style.display =\n",
              "          google.colab.kernel.accessAllowed ? 'block' : 'none';\n",
              "\n",
              "        async function convertToInteractive(key) {\n",
              "          const element = document.querySelector('#df-4a522594-fa5e-4b72-b8ef-e11dbde2c958');\n",
              "          const dataTable =\n",
              "            await google.colab.kernel.invokeFunction('convertToInteractive',\n",
              "                                                     [key], {});\n",
              "          if (!dataTable) return;\n",
              "\n",
              "          const docLinkHtml = 'Like what you see? Visit the ' +\n",
              "            '<a target=\"_blank\" href=https://colab.research.google.com/notebooks/data_table.ipynb>data table notebook</a>'\n",
              "            + ' to learn more about interactive tables.';\n",
              "          element.innerHTML = '';\n",
              "          dataTable['output_type'] = 'display_data';\n",
              "          await google.colab.output.renderOutput(dataTable, element);\n",
              "          const docLink = document.createElement('div');\n",
              "          docLink.innerHTML = docLinkHtml;\n",
              "          element.appendChild(docLink);\n",
              "        }\n",
              "      </script>\n",
              "    </div>\n",
              "  </div>\n",
              "  "
            ]
          },
          "metadata": {},
          "execution_count": 39
        }
      ]
    },
    {
      "cell_type": "code",
      "source": [
        "sns.heatmap(corr_matrix, square=True, cmap=\"crest\", annot=True)\n",
        "pass"
      ],
      "metadata": {
        "colab": {
          "base_uri": "https://localhost:8080/",
          "height": 365
        },
        "id": "Y0W8uZgI1qn4",
        "outputId": "7c97c20a-077d-444a-ee4b-e6bb0e5e17d6"
      },
      "execution_count": 40,
      "outputs": [
        {
          "output_type": "display_data",
          "data": {
            "text/plain": [
              "<Figure size 432x288 with 2 Axes>"
            ],
            "image/png": "[encoded data removed]"
          },
          "metadata": {
            "needs_background": "light"
          }
        }
      ]
    },
    {
      "cell_type": "markdown",
      "source": [
        "По визуализации матрицы коллеряции видно, что есть три пары связанных признаков: \n",
        "\n",
        "*   Net Sales и Commision (in value) со степенью корреляции, равной 0.6\n",
        "*   Net Sales и Duration со степенью корреляции, равной 0.57\n",
        "*   Commision (in value) и Duration со степенью корреляции, равной 0.36\n",
        "\n",
        "\n",
        "\n",
        "Взаимосвязь остальных пар очень слабая. <br>\n",
        "<br>\n",
        "<br>\n",
        "<br>\n",
        "\n",
        "Выведем графики, интересующих нас пар:\n"
      ],
      "metadata": {
        "id": "VyR4RBvc16Ip"
      }
    },
    {
      "cell_type": "code",
      "source": [
        "plt.scatter(upd_data['Net Sales'], upd_data['Commision (in value)'], alpha=0.2)\n",
        "pass"
      ],
      "metadata": {
        "colab": {
          "base_uri": "https://localhost:8080/",
          "height": 265
        },
        "id": "V62RayAd1_sc",
        "outputId": "6c386d9d-91af-46b8-fe91-88b7a5cd6383"
      },
      "execution_count": 20,
      "outputs": [
        {
          "output_type": "display_data",
          "data": {
            "text/plain": [
              "<Figure size 432x288 with 1 Axes>"
            ],
            "image/png": "[encoded data removed]"
          },
          "metadata": {
            "needs_background": "light"
          }
        }
      ]
    },
    {
      "cell_type": "code",
      "source": [
        "plt.scatter(upd_data['Net Sales'], upd_data['Duration'], alpha=0.5)\n",
        "pass"
      ],
      "metadata": {
        "colab": {
          "base_uri": "https://localhost:8080/",
          "height": 266
        },
        "id": "6Apdo_uY2aKa",
        "outputId": "0ff2acf5-61e0-4ec4-b3fa-84324aa2be73"
      },
      "execution_count": 21,
      "outputs": [
        {
          "output_type": "display_data",
          "data": {
            "text/plain": [
              "<Figure size 432x288 with 1 Axes>"
            ],
            "image/png": "[encoded data removed]"
          },
          "metadata": {
            "needs_background": "light"
          }
        }
      ]
    },
    {
      "cell_type": "code",
      "source": [
        "plt.scatter(upd_data['Commision (in value)'], upd_data['Duration'], alpha=0.3)\n",
        "pass"
      ],
      "metadata": {
        "id": "K91IjVXb5dRJ",
        "colab": {
          "base_uri": "https://localhost:8080/",
          "height": 266
        },
        "outputId": "ff677659-189a-4209-919f-57cd5ee4e0a6"
      },
      "execution_count": 22,
      "outputs": [
        {
          "output_type": "display_data",
          "data": {
            "text/plain": [
              "<Figure size 432x288 with 1 Axes>"
            ],
            "image/png": "[encoded data removed]"
          },
          "metadata": {
            "needs_background": "light"
          }
        }
      ]
    },
    {
      "cell_type": "markdown",
      "source": [
        "# **3. Обработка пропущенных значений**\n",
        "\n",
        "---\n",
        "\n",
        "Посмотрим какие столбцы имеют пропуски"
      ],
      "metadata": {
        "id": "jGkopwHV8oJ_"
      }
    },
    {
      "cell_type": "code",
      "source": [
        "upd_data.isna().sum()"
      ],
      "metadata": {
        "colab": {
          "base_uri": "https://localhost:8080/"
        },
        "id": "elHqGS2PkDH4",
        "outputId": "f4e27fb4-8415-4543-f204-883266a9c0e8"
      },
      "execution_count": 41,
      "outputs": [
        {
          "output_type": "execute_result",
          "data": {
            "text/plain": [
              "Agency                      0\n",
              "Agency Type                 0\n",
              "Distribution Channel        0\n",
              "Product Name                0\n",
              "Claim                       0\n",
              "Duration                    0\n",
              "Destination                 0\n",
              "Net Sales                   0\n",
              "Commision (in value)        0\n",
              "Gender                  44532\n",
              "Age                         0\n",
              "dtype: int64"
            ]
          },
          "metadata": {},
          "execution_count": 41
        }
      ]
    },
    {
      "cell_type": "markdown",
      "source": [
        "Видим, что пропущенные значения присутсвуют только у признака Gender. Их необходимо заполнить, так как иначе утеряется значительная часть информации датасета. "
      ],
      "metadata": {
        "id": "4PRi_b7l8zqW"
      }
    },
    {
      "cell_type": "code",
      "source": [
        "upd_data['Gender'].mode()\n"
      ],
      "metadata": {
        "colab": {
          "base_uri": "https://localhost:8080/"
        },
        "id": "qwXcSBxKkI5a",
        "outputId": "c4cd3820-1865-406a-c045-511e00ef333f"
      },
      "execution_count": 17,
      "outputs": [
        {
          "output_type": "execute_result",
          "data": {
            "text/plain": [
              "0    M\n",
              "Name: Gender, dtype: category\n",
              "Categories (2, object): ['F', 'M']"
            ]
          },
          "metadata": {},
          "execution_count": 17
        }
      ]
    },
    {
      "cell_type": "code",
      "source": [
        "upd_data['Gender'].fillna(upd_data['Gender'].mode()[0], inplace = True)\n",
        "upd_data.isna().sum()"
      ],
      "metadata": {
        "id": "NOy7NNbjknTm",
        "colab": {
          "base_uri": "https://localhost:8080/"
        },
        "outputId": "c9ed6361-2a4d-4823-dd6d-77caf57fbf28"
      },
      "execution_count": 18,
      "outputs": [
        {
          "output_type": "execute_result",
          "data": {
            "text/plain": [
              "Agency                  0\n",
              "Agency Type             0\n",
              "Distribution Channel    0\n",
              "Product Name            0\n",
              "Claim                   0\n",
              "Duration                0\n",
              "Destination             0\n",
              "Net Sales               0\n",
              "Commision (in value)    0\n",
              "Gender                  0\n",
              "Age                     0\n",
              "dtype: int64"
            ]
          },
          "metadata": {},
          "execution_count": 18
        }
      ]
    },
    {
      "cell_type": "markdown",
      "source": [
        "Пропущенные значения обработаны, пропусков у признака Gender не осталось.\n"
      ],
      "metadata": {
        "id": "t222SEqu9OhW"
      }
    },
    {
      "cell_type": "markdown",
      "source": [
        "## **4. Обработка категориальных признаков**\n",
        "\n",
        "---\n",
        "\n",
        "Среди категориальных признаков есть бинарные и небинарные.\n",
        "<br>\n",
        "К бинарным относятся такие признаки, как Agency Type, Distribution Channel, Claim и Gender. Заменим их значения на 0 и 1."
      ],
      "metadata": {
        "id": "tyT2Zzxk9U4W"
      }
    },
    {
      "cell_type": "code",
      "source": [
        "upd_data['Agency Type'] = pd.factorize(upd_data['Agency Type'])[0]\n",
        "upd_data['Distribution Channel'] = pd.factorize(upd_data['Distribution Channel'])[0]\n",
        "upd_data['Gender'] = pd.factorize(upd_data['Gender'])[0]"
      ],
      "metadata": {
        "id": "r1MA-AOKkw9g"
      },
      "execution_count": 19,
      "outputs": []
    },
    {
      "cell_type": "code",
      "source": [
        "upd_data['Claim'] = pd.factorize(upd_data['Claim'])[0]\n",
        "upd_data"
      ],
      "metadata": {
        "colab": {
          "base_uri": "https://localhost:8080/",
          "height": 424
        },
        "id": "0-mbztk3k1MV",
        "outputId": "ab269b8e-979c-4879-8b11-36d2180ab2c6"
      },
      "execution_count": 20,
      "outputs": [
        {
          "output_type": "execute_result",
          "data": {
            "text/plain": [
              "      Agency  Agency Type  Distribution Channel  \\\n",
              "1        CBH            0                     0   \n",
              "2        CWT            0                     1   \n",
              "3        CWT            0                     1   \n",
              "4        CWT            0                     1   \n",
              "6        CWT            0                     1   \n",
              "...      ...          ...                   ...   \n",
              "63321    JZI            1                     1   \n",
              "63322    JZI            1                     1   \n",
              "63323    JZI            1                     1   \n",
              "63324    JZI            1                     1   \n",
              "63325    JZI            1                     1   \n",
              "\n",
              "                          Product Name  Claim  Duration    Destination  \\\n",
              "1                   Comprehensive Plan      0       186       MALAYSIA   \n",
              "2      Rental Vehicle Excess Insurance      0        65      AUSTRALIA   \n",
              "3      Rental Vehicle Excess Insurance      0        60      AUSTRALIA   \n",
              "4      Rental Vehicle Excess Insurance      0        79          ITALY   \n",
              "6      Rental Vehicle Excess Insurance      0        47  UNITED STATES   \n",
              "...                                ...    ...       ...            ...   \n",
              "63321                       Basic Plan      0       111          JAPAN   \n",
              "63322                       Basic Plan      0        58          CHINA   \n",
              "63323                       Basic Plan      0         2       MALAYSIA   \n",
              "63324                       Basic Plan      0         3       VIET NAM   \n",
              "63325                       Basic Plan      0        22      HONG KONG   \n",
              "\n",
              "       Net Sales  Commision (in value)  Gender  Age  \n",
              "1          -29.0                  9.57       0   71  \n",
              "2          -49.5                 29.70       1   32  \n",
              "3          -39.6                 23.76       1   32  \n",
              "4          -19.8                 11.88       1   41  \n",
              "6          -39.6                 23.76       1   32  \n",
              "...          ...                   ...     ...  ...  \n",
              "63321       35.0                 12.25       1   31  \n",
              "63322       40.0                 14.00       0   40  \n",
              "63323       18.0                  6.30       1   57  \n",
              "63324       18.0                  6.30       1   63  \n",
              "63325       26.0                  9.10       0   35  \n",
              "\n",
              "[60782 rows x 11 columns]"
            ],
            "text/html": [
              "\n",
              "  <div id=\"df-8ce9b593-3f66-4834-a56e-5fd583945900\">\n",
              "    <div class=\"colab-df-container\">\n",
              "      <div>\n",
              "<style scoped>\n",
              "    .dataframe tbody tr th:only-of-type {\n",
              "        vertical-align: middle;\n",
              "    }\n",
              "\n",
              "    .dataframe tbody tr th {\n",
              "        vertical-align: top;\n",
              "    }\n",
              "\n",
              "    .dataframe thead th {\n",
              "        text-align: right;\n",
              "    }\n",
              "</style>\n",
              "<table border=\"1\" class=\"dataframe\">\n",
              "  <thead>\n",
              "    <tr style=\"text-align: right;\">\n",
              "      <th></th>\n",
              "      <th>Agency</th>\n",
              "      <th>Agency Type</th>\n",
              "      <th>Distribution Channel</th>\n",
              "      <th>Product Name</th>\n",
              "      <th>Claim</th>\n",
              "      <th>Duration</th>\n",
              "      <th>Destination</th>\n",
              "      <th>Net Sales</th>\n",
              "      <th>Commision (in value)</th>\n",
              "      <th>Gender</th>\n",
              "      <th>Age</th>\n",
              "    </tr>\n",
              "  </thead>\n",
              "  <tbody>\n",
              "    <tr>\n",
              "      <th>1</th>\n",
              "      <td>CBH</td>\n",
              "      <td>0</td>\n",
              "      <td>0</td>\n",
              "      <td>Comprehensive Plan</td>\n",
              "      <td>0</td>\n",
              "      <td>186</td>\n",
              "      <td>MALAYSIA</td>\n",
              "      <td>-29.0</td>\n",
              "      <td>9.57</td>\n",
              "      <td>0</td>\n",
              "      <td>71</td>\n",
              "    </tr>\n",
              "    <tr>\n",
              "      <th>2</th>\n",
              "      <td>CWT</td>\n",
              "      <td>0</td>\n",
              "      <td>1</td>\n",
              "      <td>Rental Vehicle Excess Insurance</td>\n",
              "      <td>0</td>\n",
              "      <td>65</td>\n",
              "      <td>AUSTRALIA</td>\n",
              "      <td>-49.5</td>\n",
              "      <td>29.70</td>\n",
              "      <td>1</td>\n",
              "      <td>32</td>\n",
              "    </tr>\n",
              "    <tr>\n",
              "      <th>3</th>\n",
              "      <td>CWT</td>\n",
              "      <td>0</td>\n",
              "      <td>1</td>\n",
              "      <td>Rental Vehicle Excess Insurance</td>\n",
              "      <td>0</td>\n",
              "      <td>60</td>\n",
              "      <td>AUSTRALIA</td>\n",
              "      <td>-39.6</td>\n",
              "      <td>23.76</td>\n",
              "      <td>1</td>\n",
              "      <td>32</td>\n",
              "    </tr>\n",
              "    <tr>\n",
              "      <th>4</th>\n",
              "      <td>CWT</td>\n",
              "      <td>0</td>\n",
              "      <td>1</td>\n",
              "      <td>Rental Vehicle Excess Insurance</td>\n",
              "      <td>0</td>\n",
              "      <td>79</td>\n",
              "      <td>ITALY</td>\n",
              "      <td>-19.8</td>\n",
              "      <td>11.88</td>\n",
              "      <td>1</td>\n",
              "      <td>41</td>\n",
              "    </tr>\n",
              "    <tr>\n",
              "      <th>6</th>\n",
              "      <td>CWT</td>\n",
              "      <td>0</td>\n",
              "      <td>1</td>\n",
              "      <td>Rental Vehicle Excess Insurance</td>\n",
              "      <td>0</td>\n",
              "      <td>47</td>\n",
              "      <td>UNITED STATES</td>\n",
              "      <td>-39.6</td>\n",
              "      <td>23.76</td>\n",
              "      <td>1</td>\n",
              "      <td>32</td>\n",
              "    </tr>\n",
              "    <tr>\n",
              "      <th>...</th>\n",
              "      <td>...</td>\n",
              "      <td>...</td>\n",
              "      <td>...</td>\n",
              "      <td>...</td>\n",
              "      <td>...</td>\n",
              "      <td>...</td>\n",
              "      <td>...</td>\n",
              "      <td>...</td>\n",
              "      <td>...</td>\n",
              "      <td>...</td>\n",
              "      <td>...</td>\n",
              "    </tr>\n",
              "    <tr>\n",
              "      <th>63321</th>\n",
              "      <td>JZI</td>\n",
              "      <td>1</td>\n",
              "      <td>1</td>\n",
              "      <td>Basic Plan</td>\n",
              "      <td>0</td>\n",
              "      <td>111</td>\n",
              "      <td>JAPAN</td>\n",
              "      <td>35.0</td>\n",
              "      <td>12.25</td>\n",
              "      <td>1</td>\n",
              "      <td>31</td>\n",
              "    </tr>\n",
              "    <tr>\n",
              "      <th>63322</th>\n",
              "      <td>JZI</td>\n",
              "      <td>1</td>\n",
              "      <td>1</td>\n",
              "      <td>Basic Plan</td>\n",
              "      <td>0</td>\n",
              "      <td>58</td>\n",
              "      <td>CHINA</td>\n",
              "      <td>40.0</td>\n",
              "      <td>14.00</td>\n",
              "      <td>0</td>\n",
              "      <td>40</td>\n",
              "    </tr>\n",
              "    <tr>\n",
              "      <th>63323</th>\n",
              "      <td>JZI</td>\n",
              "      <td>1</td>\n",
              "      <td>1</td>\n",
              "      <td>Basic Plan</td>\n",
              "      <td>0</td>\n",
              "      <td>2</td>\n",
              "      <td>MALAYSIA</td>\n",
              "      <td>18.0</td>\n",
              "      <td>6.30</td>\n",
              "      <td>1</td>\n",
              "      <td>57</td>\n",
              "    </tr>\n",
              "    <tr>\n",
              "      <th>63324</th>\n",
              "      <td>JZI</td>\n",
              "      <td>1</td>\n",
              "      <td>1</td>\n",
              "      <td>Basic Plan</td>\n",
              "      <td>0</td>\n",
              "      <td>3</td>\n",
              "      <td>VIET NAM</td>\n",
              "      <td>18.0</td>\n",
              "      <td>6.30</td>\n",
              "      <td>1</td>\n",
              "      <td>63</td>\n",
              "    </tr>\n",
              "    <tr>\n",
              "      <th>63325</th>\n",
              "      <td>JZI</td>\n",
              "      <td>1</td>\n",
              "      <td>1</td>\n",
              "      <td>Basic Plan</td>\n",
              "      <td>0</td>\n",
              "      <td>22</td>\n",
              "      <td>HONG KONG</td>\n",
              "      <td>26.0</td>\n",
              "      <td>9.10</td>\n",
              "      <td>0</td>\n",
              "      <td>35</td>\n",
              "    </tr>\n",
              "  </tbody>\n",
              "</table>\n",
              "<p>60782 rows × 11 columns</p>\n",
              "</div>\n",
              "      <button class=\"colab-df-convert\" onclick=\"convertToInteractive('df-8ce9b593-3f66-4834-a56e-5fd583945900')\"\n",
              "              title=\"Convert this dataframe to an interactive table.\"\n",
              "              style=\"display:none;\">\n",
              "        \n",
              "  <svg xmlns=\"http://www.w3.org/2000/svg\" height=\"24px\"viewBox=\"0 0 24 24\"\n",
              "       width=\"24px\">\n",
              "    <path d=\"M0 0h24v24H0V0z\" fill=\"none\"/>\n",
              "    <path d=\"M18.56 5.44l.94 2.06.94-2.06 2.06-.94-2.06-.94-.94-2.06-.94 2.06-2.06.94zm-11 1L8.5 8.5l.94-2.06 2.06-.94-2.06-.94L8.5 2.5l-.94 2.06-2.06.94zm10 10l.94 2.06.94-2.06 2.06-.94-2.06-.94-.94-2.06-.94 2.06-2.06.94z\"/><path d=\"M17.41 7.96l-1.37-1.37c-.4-.4-.92-.59-1.43-.59-.52 0-1.04.2-1.43.59L10.3 9.45l-7.72 7.72c-.78.78-.78 2.05 0 2.83L4 21.41c.39.39.9.59 1.41.59.51 0 1.02-.2 1.41-.59l7.78-7.78 2.81-2.81c.8-.78.8-2.07 0-2.86zM5.41 20L4 18.59l7.72-7.72 1.47 1.35L5.41 20z\"/>\n",
              "  </svg>\n",
              "      </button>\n",
              "      \n",
              "  <style>\n",
              "    .colab-df-container {\n",
              "      display:flex;\n",
              "      flex-wrap:wrap;\n",
              "      gap: 12px;\n",
              "    }\n",
              "\n",
              "    .colab-df-convert {\n",
              "      background-color: #E8F0FE;\n",
              "      border: none;\n",
              "      border-radius: 50%;\n",
              "      cursor: pointer;\n",
              "      display: none;\n",
              "      fill: #1967D2;\n",
              "      height: 32px;\n",
              "      padding: 0 0 0 0;\n",
              "      width: 32px;\n",
              "    }\n",
              "\n",
              "    .colab-df-convert:hover {\n",
              "      background-color: #E2EBFA;\n",
              "      box-shadow: 0px 1px 2px rgba(60, 64, 67, 0.3), 0px 1px 3px 1px rgba(60, 64, 67, 0.15);\n",
              "      fill: #174EA6;\n",
              "    }\n",
              "\n",
              "    [theme=dark] .colab-df-convert {\n",
              "      background-color: #3B4455;\n",
              "      fill: #D2E3FC;\n",
              "    }\n",
              "\n",
              "    [theme=dark] .colab-df-convert:hover {\n",
              "      background-color: #434B5C;\n",
              "      box-shadow: 0px 1px 3px 1px rgba(0, 0, 0, 0.15);\n",
              "      filter: drop-shadow(0px 1px 2px rgba(0, 0, 0, 0.3));\n",
              "      fill: #FFFFFF;\n",
              "    }\n",
              "  </style>\n",
              "\n",
              "      <script>\n",
              "        const buttonEl =\n",
              "          document.querySelector('#df-8ce9b593-3f66-4834-a56e-5fd583945900 button.colab-df-convert');\n",
              "        buttonEl.style.display =\n",
              "          google.colab.kernel.accessAllowed ? 'block' : 'none';\n",
              "\n",
              "        async function convertToInteractive(key) {\n",
              "          const element = document.querySelector('#df-8ce9b593-3f66-4834-a56e-5fd583945900');\n",
              "          const dataTable =\n",
              "            await google.colab.kernel.invokeFunction('convertToInteractive',\n",
              "                                                     [key], {});\n",
              "          if (!dataTable) return;\n",
              "\n",
              "          const docLinkHtml = 'Like what you see? Visit the ' +\n",
              "            '<a target=\"_blank\" href=https://colab.research.google.com/notebooks/data_table.ipynb>data table notebook</a>'\n",
              "            + ' to learn more about interactive tables.';\n",
              "          element.innerHTML = '';\n",
              "          dataTable['output_type'] = 'display_data';\n",
              "          await google.colab.output.renderOutput(dataTable, element);\n",
              "          const docLink = document.createElement('div');\n",
              "          docLink.innerHTML = docLinkHtml;\n",
              "          element.appendChild(docLink);\n",
              "        }\n",
              "      </script>\n",
              "    </div>\n",
              "  </div>\n",
              "  "
            ]
          },
          "metadata": {},
          "execution_count": 20
        }
      ]
    },
    {
      "cell_type": "markdown",
      "source": [
        "К небинарным признакам применим метод векторизации:"
      ],
      "metadata": {
        "id": "v6icCmgV9kOX"
      }
    },
    {
      "cell_type": "code",
      "source": [
        "upd_agency = pd.get_dummies(upd_data['Agency'])\n",
        "upd_product_name = pd.get_dummies(upd_data['Product Name'])\n",
        "upd_destination = pd.get_dummies(upd_data['Destination'])\n",
        "upd_data = pd.concat((upd_data, upd_agency, upd_product_name, upd_destination), axis = 1)\n",
        "upd_data = upd_data.drop(['Agency','Product Name', 'Destination'], axis = 1)\n",
        "upd_data"
      ],
      "metadata": {
        "colab": {
          "base_uri": "https://localhost:8080/",
          "height": 522
        },
        "id": "vTvtJciRk23G",
        "outputId": "34ee3c53-9397-4f0c-f52a-a236000d1370"
      },
      "execution_count": 21,
      "outputs": [
        {
          "output_type": "execute_result",
          "data": {
            "text/plain": [
              "       Agency Type  Distribution Channel  Claim  Duration  Net Sales  \\\n",
              "1                0                     0      0       186      -29.0   \n",
              "2                0                     1      0        65      -49.5   \n",
              "3                0                     1      0        60      -39.6   \n",
              "4                0                     1      0        79      -19.8   \n",
              "6                0                     1      0        47      -39.6   \n",
              "...            ...                   ...    ...       ...        ...   \n",
              "63321            1                     1      0       111       35.0   \n",
              "63322            1                     1      0        58       40.0   \n",
              "63323            1                     1      0         2       18.0   \n",
              "63324            1                     1      0         3       18.0   \n",
              "63325            1                     1      0        22       26.0   \n",
              "\n",
              "       Commision (in value)  Gender  Age  ADM  ART  ...  UNITED KINGDOM  \\\n",
              "1                      9.57       0   71    0    0  ...               0   \n",
              "2                     29.70       1   32    0    0  ...               0   \n",
              "3                     23.76       1   32    0    0  ...               0   \n",
              "4                     11.88       1   41    0    0  ...               0   \n",
              "6                     23.76       1   32    0    0  ...               0   \n",
              "...                     ...     ...  ...  ...  ...  ...             ...   \n",
              "63321                 12.25       1   31    0    0  ...               0   \n",
              "63322                 14.00       0   40    0    0  ...               0   \n",
              "63323                  6.30       1   57    0    0  ...               0   \n",
              "63324                  6.30       1   63    0    0  ...               0   \n",
              "63325                  9.10       0   35    0    0  ...               0   \n",
              "\n",
              "       UNITED STATES  URUGUAY  UZBEKISTAN  VANUATU  VENEZUELA  VIET NAM  \\\n",
              "1                  0        0           0        0          0         0   \n",
              "2                  0        0           0        0          0         0   \n",
              "3                  0        0           0        0          0         0   \n",
              "4                  0        0           0        0          0         0   \n",
              "6                  1        0           0        0          0         0   \n",
              "...              ...      ...         ...      ...        ...       ...   \n",
              "63321              0        0           0        0          0         0   \n",
              "63322              0        0           0        0          0         0   \n",
              "63323              0        0           0        0          0         0   \n",
              "63324              0        0           0        0          0         1   \n",
              "63325              0        0           0        0          0         0   \n",
              "\n",
              "       VIRGIN ISLANDS, U.S.  ZAMBIA  ZIMBABWE  \n",
              "1                         0       0         0  \n",
              "2                         0       0         0  \n",
              "3                         0       0         0  \n",
              "4                         0       0         0  \n",
              "6                         0       0         0  \n",
              "...                     ...     ...       ...  \n",
              "63321                     0       0         0  \n",
              "63322                     0       0         0  \n",
              "63323                     0       0         0  \n",
              "63324                     0       0         0  \n",
              "63325                     0       0         0  \n",
              "\n",
              "[60782 rows x 193 columns]"
            ],
            "text/html": [
              "\n",
              "  <div id=\"df-11deccc2-f8ab-49f9-ba0a-8b7a4d42fcd0\">\n",
              "    <div class=\"colab-df-container\">\n",
              "      <div>\n",
              "<style scoped>\n",
              "    .dataframe tbody tr th:only-of-type {\n",
              "        vertical-align: middle;\n",
              "    }\n",
              "\n",
              "    .dataframe tbody tr th {\n",
              "        vertical-align: top;\n",
              "    }\n",
              "\n",
              "    .dataframe thead th {\n",
              "        text-align: right;\n",
              "    }\n",
              "</style>\n",
              "<table border=\"1\" class=\"dataframe\">\n",
              "  <thead>\n",
              "    <tr style=\"text-align: right;\">\n",
              "      <th></th>\n",
              "      <th>Agency Type</th>\n",
              "      <th>Distribution Channel</th>\n",
              "      <th>Claim</th>\n",
              "      <th>Duration</th>\n",
              "      <th>Net Sales</th>\n",
              "      <th>Commision (in value)</th>\n",
              "      <th>Gender</th>\n",
              "      <th>Age</th>\n",
              "      <th>ADM</th>\n",
              "      <th>ART</th>\n",
              "      <th>...</th>\n",
              "      <th>UNITED KINGDOM</th>\n",
              "      <th>UNITED STATES</th>\n",
              "      <th>URUGUAY</th>\n",
              "      <th>UZBEKISTAN</th>\n",
              "      <th>VANUATU</th>\n",
              "      <th>VENEZUELA</th>\n",
              "      <th>VIET NAM</th>\n",
              "      <th>VIRGIN ISLANDS, U.S.</th>\n",
              "      <th>ZAMBIA</th>\n",
              "      <th>ZIMBABWE</th>\n",
              "    </tr>\n",
              "  </thead>\n",
              "  <tbody>\n",
              "    <tr>\n",
              "      <th>1</th>\n",
              "      <td>0</td>\n",
              "      <td>0</td>\n",
              "      <td>0</td>\n",
              "      <td>186</td>\n",
              "      <td>-29.0</td>\n",
              "      <td>9.57</td>\n",
              "      <td>0</td>\n",
              "      <td>71</td>\n",
              "      <td>0</td>\n",
              "      <td>0</td>\n",
              "      <td>...</td>\n",
              "      <td>0</td>\n",
              "      <td>0</td>\n",
              "      <td>0</td>\n",
              "      <td>0</td>\n",
              "      <td>0</td>\n",
              "      <td>0</td>\n",
              "      <td>0</td>\n",
              "      <td>0</td>\n",
              "      <td>0</td>\n",
              "      <td>0</td>\n",
              "    </tr>\n",
              "    <tr>\n",
              "      <th>2</th>\n",
              "      <td>0</td>\n",
              "      <td>1</td>\n",
              "      <td>0</td>\n",
              "      <td>65</td>\n",
              "      <td>-49.5</td>\n",
              "      <td>29.70</td>\n",
              "      <td>1</td>\n",
              "      <td>32</td>\n",
              "      <td>0</td>\n",
              "      <td>0</td>\n",
              "      <td>...</td>\n",
              "      <td>0</td>\n",
              "      <td>0</td>\n",
              "      <td>0</td>\n",
              "      <td>0</td>\n",
              "      <td>0</td>\n",
              "      <td>0</td>\n",
              "      <td>0</td>\n",
              "      <td>0</td>\n",
              "      <td>0</td>\n",
              "      <td>0</td>\n",
              "    </tr>\n",
              "    <tr>\n",
              "      <th>3</th>\n",
              "      <td>0</td>\n",
              "      <td>1</td>\n",
              "      <td>0</td>\n",
              "      <td>60</td>\n",
              "      <td>-39.6</td>\n",
              "      <td>23.76</td>\n",
              "      <td>1</td>\n",
              "      <td>32</td>\n",
              "      <td>0</td>\n",
              "      <td>0</td>\n",
              "      <td>...</td>\n",
              "      <td>0</td>\n",
              "      <td>0</td>\n",
              "      <td>0</td>\n",
              "      <td>0</td>\n",
              "      <td>0</td>\n",
              "      <td>0</td>\n",
              "      <td>0</td>\n",
              "      <td>0</td>\n",
              "      <td>0</td>\n",
              "      <td>0</td>\n",
              "    </tr>\n",
              "    <tr>\n",
              "      <th>4</th>\n",
              "      <td>0</td>\n",
              "      <td>1</td>\n",
              "      <td>0</td>\n",
              "      <td>79</td>\n",
              "      <td>-19.8</td>\n",
              "      <td>11.88</td>\n",
              "      <td>1</td>\n",
              "      <td>41</td>\n",
              "      <td>0</td>\n",
              "      <td>0</td>\n",
              "      <td>...</td>\n",
              "      <td>0</td>\n",
              "      <td>0</td>\n",
              "      <td>0</td>\n",
              "      <td>0</td>\n",
              "      <td>0</td>\n",
              "      <td>0</td>\n",
              "      <td>0</td>\n",
              "      <td>0</td>\n",
              "      <td>0</td>\n",
              "      <td>0</td>\n",
              "    </tr>\n",
              "    <tr>\n",
              "      <th>6</th>\n",
              "      <td>0</td>\n",
              "      <td>1</td>\n",
              "      <td>0</td>\n",
              "      <td>47</td>\n",
              "      <td>-39.6</td>\n",
              "      <td>23.76</td>\n",
              "      <td>1</td>\n",
              "      <td>32</td>\n",
              "      <td>0</td>\n",
              "      <td>0</td>\n",
              "      <td>...</td>\n",
              "      <td>0</td>\n",
              "      <td>1</td>\n",
              "      <td>0</td>\n",
              "      <td>0</td>\n",
              "      <td>0</td>\n",
              "      <td>0</td>\n",
              "      <td>0</td>\n",
              "      <td>0</td>\n",
              "      <td>0</td>\n",
              "      <td>0</td>\n",
              "    </tr>\n",
              "    <tr>\n",
              "      <th>...</th>\n",
              "      <td>...</td>\n",
              "      <td>...</td>\n",
              "      <td>...</td>\n",
              "      <td>...</td>\n",
              "      <td>...</td>\n",
              "      <td>...</td>\n",
              "      <td>...</td>\n",
              "      <td>...</td>\n",
              "      <td>...</td>\n",
              "      <td>...</td>\n",
              "      <td>...</td>\n",
              "      <td>...</td>\n",
              "      <td>...</td>\n",
              "      <td>...</td>\n",
              "      <td>...</td>\n",
              "      <td>...</td>\n",
              "      <td>...</td>\n",
              "      <td>...</td>\n",
              "      <td>...</td>\n",
              "      <td>...</td>\n",
              "      <td>...</td>\n",
              "    </tr>\n",
              "    <tr>\n",
              "      <th>63321</th>\n",
              "      <td>1</td>\n",
              "      <td>1</td>\n",
              "      <td>0</td>\n",
              "      <td>111</td>\n",
              "      <td>35.0</td>\n",
              "      <td>12.25</td>\n",
              "      <td>1</td>\n",
              "      <td>31</td>\n",
              "      <td>0</td>\n",
              "      <td>0</td>\n",
              "      <td>...</td>\n",
              "      <td>0</td>\n",
              "      <td>0</td>\n",
              "      <td>0</td>\n",
              "      <td>0</td>\n",
              "      <td>0</td>\n",
              "      <td>0</td>\n",
              "      <td>0</td>\n",
              "      <td>0</td>\n",
              "      <td>0</td>\n",
              "      <td>0</td>\n",
              "    </tr>\n",
              "    <tr>\n",
              "      <th>63322</th>\n",
              "      <td>1</td>\n",
              "      <td>1</td>\n",
              "      <td>0</td>\n",
              "      <td>58</td>\n",
              "      <td>40.0</td>\n",
              "      <td>14.00</td>\n",
              "      <td>0</td>\n",
              "      <td>40</td>\n",
              "      <td>0</td>\n",
              "      <td>0</td>\n",
              "      <td>...</td>\n",
              "      <td>0</td>\n",
              "      <td>0</td>\n",
              "      <td>0</td>\n",
              "      <td>0</td>\n",
              "      <td>0</td>\n",
              "      <td>0</td>\n",
              "      <td>0</td>\n",
              "      <td>0</td>\n",
              "      <td>0</td>\n",
              "      <td>0</td>\n",
              "    </tr>\n",
              "    <tr>\n",
              "      <th>63323</th>\n",
              "      <td>1</td>\n",
              "      <td>1</td>\n",
              "      <td>0</td>\n",
              "      <td>2</td>\n",
              "      <td>18.0</td>\n",
              "      <td>6.30</td>\n",
              "      <td>1</td>\n",
              "      <td>57</td>\n",
              "      <td>0</td>\n",
              "      <td>0</td>\n",
              "      <td>...</td>\n",
              "      <td>0</td>\n",
              "      <td>0</td>\n",
              "      <td>0</td>\n",
              "      <td>0</td>\n",
              "      <td>0</td>\n",
              "      <td>0</td>\n",
              "      <td>0</td>\n",
              "      <td>0</td>\n",
              "      <td>0</td>\n",
              "      <td>0</td>\n",
              "    </tr>\n",
              "    <tr>\n",
              "      <th>63324</th>\n",
              "      <td>1</td>\n",
              "      <td>1</td>\n",
              "      <td>0</td>\n",
              "      <td>3</td>\n",
              "      <td>18.0</td>\n",
              "      <td>6.30</td>\n",
              "      <td>1</td>\n",
              "      <td>63</td>\n",
              "      <td>0</td>\n",
              "      <td>0</td>\n",
              "      <td>...</td>\n",
              "      <td>0</td>\n",
              "      <td>0</td>\n",
              "      <td>0</td>\n",
              "      <td>0</td>\n",
              "      <td>0</td>\n",
              "      <td>0</td>\n",
              "      <td>1</td>\n",
              "      <td>0</td>\n",
              "      <td>0</td>\n",
              "      <td>0</td>\n",
              "    </tr>\n",
              "    <tr>\n",
              "      <th>63325</th>\n",
              "      <td>1</td>\n",
              "      <td>1</td>\n",
              "      <td>0</td>\n",
              "      <td>22</td>\n",
              "      <td>26.0</td>\n",
              "      <td>9.10</td>\n",
              "      <td>0</td>\n",
              "      <td>35</td>\n",
              "      <td>0</td>\n",
              "      <td>0</td>\n",
              "      <td>...</td>\n",
              "      <td>0</td>\n",
              "      <td>0</td>\n",
              "      <td>0</td>\n",
              "      <td>0</td>\n",
              "      <td>0</td>\n",
              "      <td>0</td>\n",
              "      <td>0</td>\n",
              "      <td>0</td>\n",
              "      <td>0</td>\n",
              "      <td>0</td>\n",
              "    </tr>\n",
              "  </tbody>\n",
              "</table>\n",
              "<p>60782 rows × 193 columns</p>\n",
              "</div>\n",
              "      <button class=\"colab-df-convert\" onclick=\"convertToInteractive('df-11deccc2-f8ab-49f9-ba0a-8b7a4d42fcd0')\"\n",
              "              title=\"Convert this dataframe to an interactive table.\"\n",
              "              style=\"display:none;\">\n",
              "        \n",
              "  <svg xmlns=\"http://www.w3.org/2000/svg\" height=\"24px\"viewBox=\"0 0 24 24\"\n",
              "       width=\"24px\">\n",
              "    <path d=\"M0 0h24v24H0V0z\" fill=\"none\"/>\n",
              "    <path d=\"M18.56 5.44l.94 2.06.94-2.06 2.06-.94-2.06-.94-.94-2.06-.94 2.06-2.06.94zm-11 1L8.5 8.5l.94-2.06 2.06-.94-2.06-.94L8.5 2.5l-.94 2.06-2.06.94zm10 10l.94 2.06.94-2.06 2.06-.94-2.06-.94-.94-2.06-.94 2.06-2.06.94z\"/><path d=\"M17.41 7.96l-1.37-1.37c-.4-.4-.92-.59-1.43-.59-.52 0-1.04.2-1.43.59L10.3 9.45l-7.72 7.72c-.78.78-.78 2.05 0 2.83L4 21.41c.39.39.9.59 1.41.59.51 0 1.02-.2 1.41-.59l7.78-7.78 2.81-2.81c.8-.78.8-2.07 0-2.86zM5.41 20L4 18.59l7.72-7.72 1.47 1.35L5.41 20z\"/>\n",
              "  </svg>\n",
              "      </button>\n",
              "      \n",
              "  <style>\n",
              "    .colab-df-container {\n",
              "      display:flex;\n",
              "      flex-wrap:wrap;\n",
              "      gap: 12px;\n",
              "    }\n",
              "\n",
              "    .colab-df-convert {\n",
              "      background-color: #E8F0FE;\n",
              "      border: none;\n",
              "      border-radius: 50%;\n",
              "      cursor: pointer;\n",
              "      display: none;\n",
              "      fill: #1967D2;\n",
              "      height: 32px;\n",
              "      padding: 0 0 0 0;\n",
              "      width: 32px;\n",
              "    }\n",
              "\n",
              "    .colab-df-convert:hover {\n",
              "      background-color: #E2EBFA;\n",
              "      box-shadow: 0px 1px 2px rgba(60, 64, 67, 0.3), 0px 1px 3px 1px rgba(60, 64, 67, 0.15);\n",
              "      fill: #174EA6;\n",
              "    }\n",
              "\n",
              "    [theme=dark] .colab-df-convert {\n",
              "      background-color: #3B4455;\n",
              "      fill: #D2E3FC;\n",
              "    }\n",
              "\n",
              "    [theme=dark] .colab-df-convert:hover {\n",
              "      background-color: #434B5C;\n",
              "      box-shadow: 0px 1px 3px 1px rgba(0, 0, 0, 0.15);\n",
              "      filter: drop-shadow(0px 1px 2px rgba(0, 0, 0, 0.3));\n",
              "      fill: #FFFFFF;\n",
              "    }\n",
              "  </style>\n",
              "\n",
              "      <script>\n",
              "        const buttonEl =\n",
              "          document.querySelector('#df-11deccc2-f8ab-49f9-ba0a-8b7a4d42fcd0 button.colab-df-convert');\n",
              "        buttonEl.style.display =\n",
              "          google.colab.kernel.accessAllowed ? 'block' : 'none';\n",
              "\n",
              "        async function convertToInteractive(key) {\n",
              "          const element = document.querySelector('#df-11deccc2-f8ab-49f9-ba0a-8b7a4d42fcd0');\n",
              "          const dataTable =\n",
              "            await google.colab.kernel.invokeFunction('convertToInteractive',\n",
              "                                                     [key], {});\n",
              "          if (!dataTable) return;\n",
              "\n",
              "          const docLinkHtml = 'Like what you see? Visit the ' +\n",
              "            '<a target=\"_blank\" href=https://colab.research.google.com/notebooks/data_table.ipynb>data table notebook</a>'\n",
              "            + ' to learn more about interactive tables.';\n",
              "          element.innerHTML = '';\n",
              "          dataTable['output_type'] = 'display_data';\n",
              "          await google.colab.output.renderOutput(dataTable, element);\n",
              "          const docLink = document.createElement('div');\n",
              "          docLink.innerHTML = docLinkHtml;\n",
              "          element.appendChild(docLink);\n",
              "        }\n",
              "      </script>\n",
              "    </div>\n",
              "  </div>\n",
              "  "
            ]
          },
          "metadata": {},
          "execution_count": 21
        }
      ]
    },
    {
      "cell_type": "markdown",
      "source": [
        "## **5. Нормализация**\n",
        "\n",
        "---\n"
      ],
      "metadata": {
        "id": "Jg9WJk4V_-AQ"
      }
    },
    {
      "cell_type": "code",
      "source": [
        "data_normalized = (upd_data - upd_data.min(axis=0)) / (upd_data.max(axis=0) - upd_data.min(axis=0))\n",
        "data_normalized.describe()"
      ],
      "metadata": {
        "colab": {
          "base_uri": "https://localhost:8080/",
          "height": 428
        },
        "id": "daHZTGd3rOMm",
        "outputId": "20e2a5d6-f315-44d0-a8b8-b925774e74ea"
      },
      "execution_count": 22,
      "outputs": [
        {
          "output_type": "execute_result",
          "data": {
            "text/plain": [
              "        Agency Type  Distribution Channel         Claim      Duration  \\\n",
              "count  60782.000000          60782.000000  60782.000000  60782.000000   \n",
              "mean       0.260011              0.985851      0.014017      0.114850   \n",
              "std        0.438644              0.118106      0.117563      0.168588   \n",
              "min        0.000000              0.000000      0.000000      0.000000   \n",
              "25%        0.000000              1.000000      0.000000      0.023196   \n",
              "50%        0.000000              1.000000      0.000000      0.056701   \n",
              "75%        1.000000              1.000000      0.000000      0.131443   \n",
              "max        1.000000              1.000000      1.000000      1.000000   \n",
              "\n",
              "          Net Sales  Commision (in value)        Gender           Age  \\\n",
              "count  60782.000000          60782.000000  60782.000000  60782.000000   \n",
              "mean       0.257534              0.073484      0.868497      0.338736   \n",
              "std        0.113903              0.136293      0.337952      0.174819   \n",
              "min        0.000000              0.000000      0.000000      0.000000   \n",
              "25%        0.197802              0.000000      1.000000      0.272727   \n",
              "50%        0.221245              0.000000      1.000000      0.290909   \n",
              "75%        0.279853              0.088605      1.000000      0.400000   \n",
              "max        1.000000              1.000000      1.000000      1.000000   \n",
              "\n",
              "                ADM           ART  ...  UNITED KINGDOM  UNITED STATES  \\\n",
              "count  60782.000000  60782.000000  ...    60782.000000   60782.000000   \n",
              "mean       0.001135      0.004475  ...        0.020829       0.037741   \n",
              "std        0.033674      0.066746  ...        0.142811       0.190572   \n",
              "min        0.000000      0.000000  ...        0.000000       0.000000   \n",
              "25%        0.000000      0.000000  ...        0.000000       0.000000   \n",
              "50%        0.000000      0.000000  ...        0.000000       0.000000   \n",
              "75%        0.000000      0.000000  ...        0.000000       0.000000   \n",
              "max        1.000000      1.000000  ...        1.000000       1.000000   \n",
              "\n",
              "            URUGUAY    UZBEKISTAN       VANUATU     VENEZUELA      VIET NAM  \\\n",
              "count  60782.000000  60782.000000  60782.000000  60782.000000  60782.000000   \n",
              "mean       0.000016      0.000165      0.000082      0.000082      0.027409   \n",
              "std        0.004056      0.012826      0.009069      0.009069      0.163275   \n",
              "min        0.000000      0.000000      0.000000      0.000000      0.000000   \n",
              "25%        0.000000      0.000000      0.000000      0.000000      0.000000   \n",
              "50%        0.000000      0.000000      0.000000      0.000000      0.000000   \n",
              "75%        0.000000      0.000000      0.000000      0.000000      0.000000   \n",
              "max        1.000000      1.000000      1.000000      1.000000      1.000000   \n",
              "\n",
              "       VIRGIN ISLANDS, U.S.        ZAMBIA      ZIMBABWE  \n",
              "count          60782.000000  60782.000000  60782.000000  \n",
              "mean               0.000016      0.000033      0.000049  \n",
              "std                0.004056      0.005736      0.007025  \n",
              "min                0.000000      0.000000      0.000000  \n",
              "25%                0.000000      0.000000      0.000000  \n",
              "50%                0.000000      0.000000      0.000000  \n",
              "75%                0.000000      0.000000      0.000000  \n",
              "max                1.000000      1.000000      1.000000  \n",
              "\n",
              "[8 rows x 193 columns]"
            ],
            "text/html": [
              "\n",
              "  <div id=\"df-fa0b9f90-b91b-4799-b5e7-e83e09b18efb\">\n",
              "    <div class=\"colab-df-container\">\n",
              "      <div>\n",
              "<style scoped>\n",
              "    .dataframe tbody tr th:only-of-type {\n",
              "        vertical-align: middle;\n",
              "    }\n",
              "\n",
              "    .dataframe tbody tr th {\n",
              "        vertical-align: top;\n",
              "    }\n",
              "\n",
              "    .dataframe thead th {\n",
              "        text-align: right;\n",
              "    }\n",
              "</style>\n",
              "<table border=\"1\" class=\"dataframe\">\n",
              "  <thead>\n",
              "    <tr style=\"text-align: right;\">\n",
              "      <th></th>\n",
              "      <th>Agency Type</th>\n",
              "      <th>Distribution Channel</th>\n",
              "      <th>Claim</th>\n",
              "      <th>Duration</th>\n",
              "      <th>Net Sales</th>\n",
              "      <th>Commision (in value)</th>\n",
              "      <th>Gender</th>\n",
              "      <th>Age</th>\n",
              "      <th>ADM</th>\n",
              "      <th>ART</th>\n",
              "      <th>...</th>\n",
              "      <th>UNITED KINGDOM</th>\n",
              "      <th>UNITED STATES</th>\n",
              "      <th>URUGUAY</th>\n",
              "      <th>UZBEKISTAN</th>\n",
              "      <th>VANUATU</th>\n",
              "      <th>VENEZUELA</th>\n",
              "      <th>VIET NAM</th>\n",
              "      <th>VIRGIN ISLANDS, U.S.</th>\n",
              "      <th>ZAMBIA</th>\n",
              "      <th>ZIMBABWE</th>\n",
              "    </tr>\n",
              "  </thead>\n",
              "  <tbody>\n",
              "    <tr>\n",
              "      <th>count</th>\n",
              "      <td>60782.000000</td>\n",
              "      <td>60782.000000</td>\n",
              "      <td>60782.000000</td>\n",
              "      <td>60782.000000</td>\n",
              "      <td>60782.000000</td>\n",
              "      <td>60782.000000</td>\n",
              "      <td>60782.000000</td>\n",
              "      <td>60782.000000</td>\n",
              "      <td>60782.000000</td>\n",
              "      <td>60782.000000</td>\n",
              "      <td>...</td>\n",
              "      <td>60782.000000</td>\n",
              "      <td>60782.000000</td>\n",
              "      <td>60782.000000</td>\n",
              "      <td>60782.000000</td>\n",
              "      <td>60782.000000</td>\n",
              "      <td>60782.000000</td>\n",
              "      <td>60782.000000</td>\n",
              "      <td>60782.000000</td>\n",
              "      <td>60782.000000</td>\n",
              "      <td>60782.000000</td>\n",
              "    </tr>\n",
              "    <tr>\n",
              "      <th>mean</th>\n",
              "      <td>0.260011</td>\n",
              "      <td>0.985851</td>\n",
              "      <td>0.014017</td>\n",
              "      <td>0.114850</td>\n",
              "      <td>0.257534</td>\n",
              "      <td>0.073484</td>\n",
              "      <td>0.868497</td>\n",
              "      <td>0.338736</td>\n",
              "      <td>0.001135</td>\n",
              "      <td>0.004475</td>\n",
              "      <td>...</td>\n",
              "      <td>0.020829</td>\n",
              "      <td>0.037741</td>\n",
              "      <td>0.000016</td>\n",
              "      <td>0.000165</td>\n",
              "      <td>0.000082</td>\n",
              "      <td>0.000082</td>\n",
              "      <td>0.027409</td>\n",
              "      <td>0.000016</td>\n",
              "      <td>0.000033</td>\n",
              "      <td>0.000049</td>\n",
              "    </tr>\n",
              "    <tr>\n",
              "      <th>std</th>\n",
              "      <td>0.438644</td>\n",
              "      <td>0.118106</td>\n",
              "      <td>0.117563</td>\n",
              "      <td>0.168588</td>\n",
              "      <td>0.113903</td>\n",
              "      <td>0.136293</td>\n",
              "      <td>0.337952</td>\n",
              "      <td>0.174819</td>\n",
              "      <td>0.033674</td>\n",
              "      <td>0.066746</td>\n",
              "      <td>...</td>\n",
              "      <td>0.142811</td>\n",
              "      <td>0.190572</td>\n",
              "      <td>0.004056</td>\n",
              "      <td>0.012826</td>\n",
              "      <td>0.009069</td>\n",
              "      <td>0.009069</td>\n",
              "      <td>0.163275</td>\n",
              "      <td>0.004056</td>\n",
              "      <td>0.005736</td>\n",
              "      <td>0.007025</td>\n",
              "    </tr>\n",
              "    <tr>\n",
              "      <th>min</th>\n",
              "      <td>0.000000</td>\n",
              "      <td>0.000000</td>\n",
              "      <td>0.000000</td>\n",
              "      <td>0.000000</td>\n",
              "      <td>0.000000</td>\n",
              "      <td>0.000000</td>\n",
              "      <td>0.000000</td>\n",
              "      <td>0.000000</td>\n",
              "      <td>0.000000</td>\n",
              "      <td>0.000000</td>\n",
              "      <td>...</td>\n",
              "      <td>0.000000</td>\n",
              "      <td>0.000000</td>\n",
              "      <td>0.000000</td>\n",
              "      <td>0.000000</td>\n",
              "      <td>0.000000</td>\n",
              "      <td>0.000000</td>\n",
              "      <td>0.000000</td>\n",
              "      <td>0.000000</td>\n",
              "      <td>0.000000</td>\n",
              "      <td>0.000000</td>\n",
              "    </tr>\n",
              "    <tr>\n",
              "      <th>25%</th>\n",
              "      <td>0.000000</td>\n",
              "      <td>1.000000</td>\n",
              "      <td>0.000000</td>\n",
              "      <td>0.023196</td>\n",
              "      <td>0.197802</td>\n",
              "      <td>0.000000</td>\n",
              "      <td>1.000000</td>\n",
              "      <td>0.272727</td>\n",
              "      <td>0.000000</td>\n",
              "      <td>0.000000</td>\n",
              "      <td>...</td>\n",
              "      <td>0.000000</td>\n",
              "      <td>0.000000</td>\n",
              "      <td>0.000000</td>\n",
              "      <td>0.000000</td>\n",
              "      <td>0.000000</td>\n",
              "      <td>0.000000</td>\n",
              "      <td>0.000000</td>\n",
              "      <td>0.000000</td>\n",
              "      <td>0.000000</td>\n",
              "      <td>0.000000</td>\n",
              "    </tr>\n",
              "    <tr>\n",
              "      <th>50%</th>\n",
              "      <td>0.000000</td>\n",
              "      <td>1.000000</td>\n",
              "      <td>0.000000</td>\n",
              "      <td>0.056701</td>\n",
              "      <td>0.221245</td>\n",
              "      <td>0.000000</td>\n",
              "      <td>1.000000</td>\n",
              "      <td>0.290909</td>\n",
              "      <td>0.000000</td>\n",
              "      <td>0.000000</td>\n",
              "      <td>...</td>\n",
              "      <td>0.000000</td>\n",
              "      <td>0.000000</td>\n",
              "      <td>0.000000</td>\n",
              "      <td>0.000000</td>\n",
              "      <td>0.000000</td>\n",
              "      <td>0.000000</td>\n",
              "      <td>0.000000</td>\n",
              "      <td>0.000000</td>\n",
              "      <td>0.000000</td>\n",
              "      <td>0.000000</td>\n",
              "    </tr>\n",
              "    <tr>\n",
              "      <th>75%</th>\n",
              "      <td>1.000000</td>\n",
              "      <td>1.000000</td>\n",
              "      <td>0.000000</td>\n",
              "      <td>0.131443</td>\n",
              "      <td>0.279853</td>\n",
              "      <td>0.088605</td>\n",
              "      <td>1.000000</td>\n",
              "      <td>0.400000</td>\n",
              "      <td>0.000000</td>\n",
              "      <td>0.000000</td>\n",
              "      <td>...</td>\n",
              "      <td>0.000000</td>\n",
              "      <td>0.000000</td>\n",
              "      <td>0.000000</td>\n",
              "      <td>0.000000</td>\n",
              "      <td>0.000000</td>\n",
              "      <td>0.000000</td>\n",
              "      <td>0.000000</td>\n",
              "      <td>0.000000</td>\n",
              "      <td>0.000000</td>\n",
              "      <td>0.000000</td>\n",
              "    </tr>\n",
              "    <tr>\n",
              "      <th>max</th>\n",
              "      <td>1.000000</td>\n",
              "      <td>1.000000</td>\n",
              "      <td>1.000000</td>\n",
              "      <td>1.000000</td>\n",
              "      <td>1.000000</td>\n",
              "      <td>1.000000</td>\n",
              "      <td>1.000000</td>\n",
              "      <td>1.000000</td>\n",
              "      <td>1.000000</td>\n",
              "      <td>1.000000</td>\n",
              "      <td>...</td>\n",
              "      <td>1.000000</td>\n",
              "      <td>1.000000</td>\n",
              "      <td>1.000000</td>\n",
              "      <td>1.000000</td>\n",
              "      <td>1.000000</td>\n",
              "      <td>1.000000</td>\n",
              "      <td>1.000000</td>\n",
              "      <td>1.000000</td>\n",
              "      <td>1.000000</td>\n",
              "      <td>1.000000</td>\n",
              "    </tr>\n",
              "  </tbody>\n",
              "</table>\n",
              "<p>8 rows × 193 columns</p>\n",
              "</div>\n",
              "      <button class=\"colab-df-convert\" onclick=\"convertToInteractive('df-fa0b9f90-b91b-4799-b5e7-e83e09b18efb')\"\n",
              "              title=\"Convert this dataframe to an interactive table.\"\n",
              "              style=\"display:none;\">\n",
              "        \n",
              "  <svg xmlns=\"http://www.w3.org/2000/svg\" height=\"24px\"viewBox=\"0 0 24 24\"\n",
              "       width=\"24px\">\n",
              "    <path d=\"M0 0h24v24H0V0z\" fill=\"none\"/>\n",
              "    <path d=\"M18.56 5.44l.94 2.06.94-2.06 2.06-.94-2.06-.94-.94-2.06-.94 2.06-2.06.94zm-11 1L8.5 8.5l.94-2.06 2.06-.94-2.06-.94L8.5 2.5l-.94 2.06-2.06.94zm10 10l.94 2.06.94-2.06 2.06-.94-2.06-.94-.94-2.06-.94 2.06-2.06.94z\"/><path d=\"M17.41 7.96l-1.37-1.37c-.4-.4-.92-.59-1.43-.59-.52 0-1.04.2-1.43.59L10.3 9.45l-7.72 7.72c-.78.78-.78 2.05 0 2.83L4 21.41c.39.39.9.59 1.41.59.51 0 1.02-.2 1.41-.59l7.78-7.78 2.81-2.81c.8-.78.8-2.07 0-2.86zM5.41 20L4 18.59l7.72-7.72 1.47 1.35L5.41 20z\"/>\n",
              "  </svg>\n",
              "      </button>\n",
              "      \n",
              "  <style>\n",
              "    .colab-df-container {\n",
              "      display:flex;\n",
              "      flex-wrap:wrap;\n",
              "      gap: 12px;\n",
              "    }\n",
              "\n",
              "    .colab-df-convert {\n",
              "      background-color: #E8F0FE;\n",
              "      border: none;\n",
              "      border-radius: 50%;\n",
              "      cursor: pointer;\n",
              "      display: none;\n",
              "      fill: #1967D2;\n",
              "      height: 32px;\n",
              "      padding: 0 0 0 0;\n",
              "      width: 32px;\n",
              "    }\n",
              "\n",
              "    .colab-df-convert:hover {\n",
              "      background-color: #E2EBFA;\n",
              "      box-shadow: 0px 1px 2px rgba(60, 64, 67, 0.3), 0px 1px 3px 1px rgba(60, 64, 67, 0.15);\n",
              "      fill: #174EA6;\n",
              "    }\n",
              "\n",
              "    [theme=dark] .colab-df-convert {\n",
              "      background-color: #3B4455;\n",
              "      fill: #D2E3FC;\n",
              "    }\n",
              "\n",
              "    [theme=dark] .colab-df-convert:hover {\n",
              "      background-color: #434B5C;\n",
              "      box-shadow: 0px 1px 3px 1px rgba(0, 0, 0, 0.15);\n",
              "      filter: drop-shadow(0px 1px 2px rgba(0, 0, 0, 0.3));\n",
              "      fill: #FFFFFF;\n",
              "    }\n",
              "  </style>\n",
              "\n",
              "      <script>\n",
              "        const buttonEl =\n",
              "          document.querySelector('#df-fa0b9f90-b91b-4799-b5e7-e83e09b18efb button.colab-df-convert');\n",
              "        buttonEl.style.display =\n",
              "          google.colab.kernel.accessAllowed ? 'block' : 'none';\n",
              "\n",
              "        async function convertToInteractive(key) {\n",
              "          const element = document.querySelector('#df-fa0b9f90-b91b-4799-b5e7-e83e09b18efb');\n",
              "          const dataTable =\n",
              "            await google.colab.kernel.invokeFunction('convertToInteractive',\n",
              "                                                     [key], {});\n",
              "          if (!dataTable) return;\n",
              "\n",
              "          const docLinkHtml = 'Like what you see? Visit the ' +\n",
              "            '<a target=\"_blank\" href=https://colab.research.google.com/notebooks/data_table.ipynb>data table notebook</a>'\n",
              "            + ' to learn more about interactive tables.';\n",
              "          element.innerHTML = '';\n",
              "          dataTable['output_type'] = 'display_data';\n",
              "          await google.colab.output.renderOutput(dataTable, element);\n",
              "          const docLink = document.createElement('div');\n",
              "          docLink.innerHTML = docLinkHtml;\n",
              "          element.appendChild(docLink);\n",
              "        }\n",
              "      </script>\n",
              "    </div>\n",
              "  </div>\n",
              "  "
            ]
          },
          "metadata": {},
          "execution_count": 22
        }
      ]
    },
    {
      "cell_type": "markdown",
      "source": [
        "## **6. Деление данных на обучающую и тестовую выборки**\n",
        "\n",
        "---\n",
        "\n",
        "Для нахождения решения задачи будем использовать все признаки кроме Claim:"
      ],
      "metadata": {
        "id": "wZdn2vqTAPHl"
      }
    },
    {
      "cell_type": "code",
      "source": [
        "X = data_normalized.drop(['Claim'], axis = 1)\n",
        "Y = data_normalized['Claim']"
      ],
      "metadata": {
        "id": "jW_n6OyGrPzy"
      },
      "execution_count": 23,
      "outputs": []
    },
    {
      "cell_type": "markdown",
      "source": [
        "Разбиваем данные в соотношении 75% (обучающая выборка) к 25% (тестовая выборка)"
      ],
      "metadata": {
        "id": "SfnnEvZeAb_Z"
      }
    },
    {
      "cell_type": "code",
      "source": [
        "from sklearn.model_selection import train_test_split\n",
        "X_train, X_test, Y_train, Y_test = train_test_split(X, Y, test_size = 0.25, random_state = 100)\n",
        "\n",
        "N_train = X_train.shape[0]\n",
        "N_test = X_test.shape[0]\n",
        "N_train, N_test"
      ],
      "metadata": {
        "colab": {
          "base_uri": "https://localhost:8080/"
        },
        "id": "5k4KEpTLrS1b",
        "outputId": "f7194b32-9d2a-4f69-97c0-9dc5030a8703"
      },
      "execution_count": 24,
      "outputs": [
        {
          "output_type": "execute_result",
          "data": {
            "text/plain": [
              "(45586, 15196)"
            ]
          },
          "metadata": {},
          "execution_count": 24
        }
      ]
    },
    {
      "cell_type": "markdown",
      "source": [
        "## **7. Запуск классификатора ближайших соседей**\n",
        "\n",
        "---\n"
      ],
      "metadata": {
        "id": "Yp-cK4_uCeO3"
      }
    },
    {
      "cell_type": "code",
      "source": [
        "from sklearn.neighbors import KNeighborsClassifier\n",
        "\n",
        "knn = KNeighborsClassifier()\n",
        "knn.fit(X_train, Y_train)"
      ],
      "metadata": {
        "colab": {
          "base_uri": "https://localhost:8080/"
        },
        "id": "Ey0O4cQurXax",
        "outputId": "5dbcbbc7-832d-4bfd-dadd-ac7b246a4efb"
      },
      "execution_count": 25,
      "outputs": [
        {
          "output_type": "execute_result",
          "data": {
            "text/plain": [
              "KNeighborsClassifier()"
            ]
          },
          "metadata": {},
          "execution_count": 25
        }
      ]
    },
    {
      "cell_type": "markdown",
      "source": [
        "Увеличим количество соседей до 8:"
      ],
      "metadata": {
        "id": "U4OiplxVCzv6"
      }
    },
    {
      "cell_type": "code",
      "source": [
        "knn_8 = KNeighborsClassifier(n_neighbors = 8)\n",
        "knn_8.fit(X_train, Y_train)"
      ],
      "metadata": {
        "id": "s-DmV-0zC_G4",
        "outputId": "c26aecc0-c2bf-43f0-d383-abd6f689a8c4",
        "colab": {
          "base_uri": "https://localhost:8080/"
        }
      },
      "execution_count": 26,
      "outputs": [
        {
          "output_type": "execute_result",
          "data": {
            "text/plain": [
              "KNeighborsClassifier(n_neighbors=8)"
            ]
          },
          "metadata": {},
          "execution_count": 26
        }
      ]
    },
    {
      "cell_type": "markdown",
      "source": [
        "Снизим количество соседей до 1:"
      ],
      "metadata": {
        "id": "OxQAED4gi7jf"
      }
    },
    {
      "cell_type": "code",
      "source": [
        "knn_1 = KNeighborsClassifier(n_neighbors = 1)\n",
        "knn_1.fit(X_train, Y_train)"
      ],
      "metadata": {
        "id": "bOaCkjnVjBUw",
        "outputId": "19bf2d1d-3847-4379-bb0c-9465a88a82cf",
        "colab": {
          "base_uri": "https://localhost:8080/"
        }
      },
      "execution_count": 27,
      "outputs": [
        {
          "output_type": "execute_result",
          "data": {
            "text/plain": [
              "KNeighborsClassifier(n_neighbors=1)"
            ]
          },
          "metadata": {},
          "execution_count": 27
        }
      ]
    },
    {
      "cell_type": "markdown",
      "source": [
        "## **8. Вычисление ошибок на обучающей и тестовой выборках. Выводы**\n",
        "\n",
        "---\n",
        "\n"
      ],
      "metadata": {
        "id": "xZ1P5mvnjLgQ"
      }
    },
    {
      "cell_type": "code",
      "source": [
        "Y_train_pred = knn.predict(X_train)\n",
        "Y_test_pred = knn.predict(X_test)\n",
        "Y_train_score = np.mean(Y_train != Y_train_pred)\n",
        "Y_test_score = np.mean(Y_test != Y_test_pred)\n",
        "Y_train_score, Y_test_score"
      ],
      "metadata": {
        "id": "ErnSnxsqjZpQ",
        "outputId": "e03084d7-e024-4b81-9248-8c3fef2e3498",
        "colab": {
          "base_uri": "https://localhost:8080/"
        }
      },
      "execution_count": 28,
      "outputs": [
        {
          "output_type": "execute_result",
          "data": {
            "text/plain": [
              "(0.013885842144518054, 0.014477494077388787)"
            ]
          },
          "metadata": {},
          "execution_count": 28
        }
      ]
    },
    {
      "cell_type": "markdown",
      "source": [
        "При использовании 5 соседей ошибка на обучающей выборке получается равна ~1,39%, а на тестовой выборке ~1,44%."
      ],
      "metadata": {
        "id": "wBzT6GhHkQAm"
      }
    },
    {
      "cell_type": "code",
      "source": [
        "Y_train_pred = knn_8.predict(X_train)\n",
        "Y_test_pred = knn_8.predict(X_test)\n",
        "Y_train_score = np.mean(Y_train != Y_train_pred)\n",
        "Y_test_score = np.mean(Y_test != Y_test_pred)\n",
        "Y_train_score, Y_test_score"
      ],
      "metadata": {
        "id": "PhouEmDukp2I",
        "outputId": "7d9f64ad-8539-4b97-a0b7-d16d0ad5bd18",
        "colab": {
          "base_uri": "https://localhost:8080/"
        }
      },
      "execution_count": 29,
      "outputs": [
        {
          "output_type": "execute_result",
          "data": {
            "text/plain": [
              "(0.013951651822928093, 0.014411687286127928)"
            ]
          },
          "metadata": {},
          "execution_count": 29
        }
      ]
    },
    {
      "cell_type": "markdown",
      "source": [
        "При использовании 8 соседей ошибка на обучающей выборке получается равна ~1,4% , а на тестовой выборке ~1,44%"
      ],
      "metadata": {
        "id": "mGIEw-Jwk9iS"
      }
    },
    {
      "cell_type": "code",
      "source": [
        "Y_train_pred = knn_1.predict(X_train)\n",
        "Y_test_pred = knn_1.predict(X_test)\n",
        "Y_train_score = np.mean(Y_train != Y_train_pred)\n",
        "Y_test_score = np.mean(Y_test != Y_test_pred)\n",
        "Y_train_score, Y_test_score"
      ],
      "metadata": {
        "id": "ypTqhoNOlI1L",
        "outputId": "810146a7-a486-4520-c811-9eed5e35205e",
        "colab": {
          "base_uri": "https://localhost:8080/"
        }
      },
      "execution_count": 30,
      "outputs": [
        {
          "output_type": "execute_result",
          "data": {
            "text/plain": [
              "(0.0012942570087307508, 0.027244011581995263)"
            ]
          },
          "metadata": {},
          "execution_count": 30
        }
      ]
    },
    {
      "cell_type": "markdown",
      "source": [
        "При использовании 1 соседа ошибка на обучающей выборке получается равна ~0,13%, а на тестовой выборке ~2,72%"
      ],
      "metadata": {
        "id": "4oAP77fSlTqi"
      }
    },
    {
      "cell_type": "markdown",
      "source": [
        "***Вывод:*** Запуск классификатора ближайших соседей с количеством соседей 5 дает хороший результат на выборке. Увеличение количества соседей не приводит к улучушению результата, значения ошибки остаются неизменными. А вот при уменьшении количества соседей увеличивается ошибка на тестовой выборке, но уменьшается на обучающей."
      ],
      "metadata": {
        "id": "r8X2h9AVmIdj"
      }
    },
    {
      "cell_type": "markdown",
      "source": [
        "## **9. Запуск других классификаторов**\n",
        "\n",
        "---\n",
        "\n"
      ],
      "metadata": {
        "id": "ti6pjgQ2pvpy"
      }
    },
    {
      "cell_type": "code",
      "source": [
        "from sklearn.tree import DecisionTreeClassifier\n",
        "desTrCl = DecisionTreeClassifier()\n",
        "desTrCl.fit(X_train,Y_train)\n",
        "\n",
        "print ('Depth:', desTrCl.get_depth())\n",
        "print ('Leaves:', desTrCl.get_n_leaves())\n",
        "\n",
        "err_train = np.mean(Y_train != desTrCl.predict(X_train))\n",
        "err_test  = np.mean(Y_test  != desTrCl.predict(X_test))\n",
        "\n",
        "print(err_train, err_test)"
      ],
      "metadata": {
        "id": "4-t1Pqiyp3vP",
        "outputId": "6ef133dc-de4a-42a2-c460-70c0e2386b6c",
        "colab": {
          "base_uri": "https://localhost:8080/"
        }
      },
      "execution_count": 31,
      "outputs": [
        {
          "output_type": "stream",
          "name": "stdout",
          "text": [
            "Depth: 35\n",
            "Leaves: 1621\n",
            "0.0011626376519106743 0.027375625164516977\n"
          ]
        }
      ]
    },
    {
      "cell_type": "markdown",
      "source": [
        "При использовании дерева решений ошибка на обучающей выборке получается равна ~0,12%, а на тестовой выборке ~2,74%. Результат на обучающей выборке лучше, чем с классификатором ближайших соседей, а результат на тестовой выборке хуже."
      ],
      "metadata": {
        "id": "ZesQ1s_TqEHU"
      }
    },
    {
      "cell_type": "markdown",
      "source": [
        "## **12. Общие выводы**\n",
        "\n",
        "---\n",
        "\n",
        "В данной работе был проведен анализ датасета, который содержит данные о страховых агенствах и туристических страховых случаев. Необходимо было предсказать наступление страхового случая. <br>\n",
        "В ходе работы было выполнено: <br>\n",
        "\n",
        "\n",
        "1.   Загрузка и чтение данных\n",
        "2.   Визуализация данных и вычисление основных их характеристик\n",
        "3.   Обработка пропущенных значений: они были заполнены\n",
        "4.   Обработка категориальных признаков с помощью методов бинаризации и векторизации\n",
        "5.   Нормализация данных с помощью линейного преобразования к отрезку\n",
        "6.   Разбиение данных на обучающую и тестовую выборки\n",
        "7.   Запуск классификатора ближайших соседей\n",
        "8.   Вычисление ошибки на обучающей и тестовой выборках\n",
        "9.   Запуск других классификаторов (дерево решений)\n",
        "\n",
        "В результате, выяснилось что при использовании классификатора ближайших соседей с параметрами по умолчанию (5 соседей) и с количеством соседей равным 8, результаты получились похожие и имеют наилучший показатель для тестовой выборки. Для обучающей выборки наилучшие результаты дали дерево решений и классификатор ближайших соседей с количеством соседей, равным 1.\n"
      ],
      "metadata": {
        "id": "1I6CUa17nJAm"
      }
    }
  ]
}